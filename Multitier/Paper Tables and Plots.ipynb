{
 "cells": [
  {
   "cell_type": "code",
   "execution_count": 2,
   "metadata": {
    "collapsed": false,
    "jupyter": {
     "outputs_hidden": false
    },
    "pycharm": {
     "name": "#%%\n"
    }
   },
   "outputs": [],
   "source": [
    "import numpy as np\n",
    "import matplotlib.pyplot as plt\n",
    "import matplotlib.dates as mdates\n",
    "import matplotlib.ticker as mtick\n",
    "import matplotlib.gridspec as gridspec\n",
    "import pandas as pd\n",
    "import seaborn as sns\n",
    "from datetime import datetime as dt\n",
    "from datetime import timedelta as td\n",
    "from scipy.integrate import simpson, cumtrapz\n",
    "import os\n",
    "\n",
    "import DEBpython.pet as pet\n",
    "import DEBpython.models as models\n",
    "from DEBpython.visualizer import tex_par_symbols, tex_par_units, par_descriptions_en\n",
    "import DEBpython.composition as composition\n",
    "import DEBpython.formulae as formulae\n",
    "import DEBpython.efficiency as efficiency\n",
    "\n",
    "from DEBtoolPyIF.data_sources import *\n",
    "from DEBtoolPyIF.notebook_visualizers import *\n",
    "\n",
    "from run_multitier_estimation import create_tier_structure\n",
    "\n",
    "sns.set_style('ticks')\n",
    "%matplotlib inline"
   ]
  },
  {
   "cell_type": "markdown",
   "metadata": {},
   "source": [
    "# Setup"
   ]
  },
  {
   "cell_type": "markdown",
   "metadata": {},
   "source": [
    "## Load tier structure"
   ]
  },
  {
   "cell_type": "code",
   "execution_count": 3,
   "metadata": {
    "collapsed": false,
    "jupyter": {
     "outputs_hidden": false
    },
    "pycharm": {
     "name": "#%%\n"
    }
   },
   "outputs": [],
   "source": [
    "multitier = create_tier_structure()\n"
   ]
  },
  {
   "cell_type": "markdown",
   "metadata": {},
   "source": [
    "## Auxiliary variables"
   ]
  },
  {
   "cell_type": "code",
   "execution_count": 4,
   "metadata": {},
   "outputs": [],
   "source": [
    "data_type_labels = {\n",
    "    'tW': 'Weight',\n",
    "    'tJX': 'Feed intake',\n",
    "    'avg': 'All',\n",
    "}\n",
    "par_order = ['p_Am', 'kap_X', 'p_M', 'v', 'kap']\n",
    "def estim_sort_key(estim):\n",
    "    params = estim.split()\n",
    "    return (len(params), [par_order.index(param) for param in params])\n",
    "\n",
    "n_digits = {'p_Am': 0, 'kap_X': 3, 'p_M': 1, 'v': 3, 'kap': 3, 'E_G':0, 'del_M': 3, 't_0': 0, 'p_Am_f': 0}\n",
    "\n",
    "# p_Am_f\n",
    "tex_par_units['p_Am_f'] = tex_par_units['p_Am']\n",
    "tex_par_symbols['p_Am_f'] = r'_f\\!' + tex_par_symbols['p_Am']\n",
    "par_descriptions_en['p_Am_f'] = par_descriptions_en['p_Am'] + ' for females'\n",
    "# E_Hx_f\n",
    "tex_par_units['E_Hx_f'] = tex_par_units['E_Hx']\n",
    "tex_par_symbols['E_Hx_f'] = r'_f\\!' + tex_par_symbols['E_Hx']\n",
    "par_descriptions_en['E_Hx_f'] = par_descriptions_en['E_Hx'] + ' for females'\n",
    "# E_Hp_f\n",
    "tex_par_units['E_Hp_f'] = tex_par_units['E_Hp']\n",
    "tex_par_symbols['E_Hp_f'] = r'_f\\!' + tex_par_symbols['E_Hp']\n",
    "par_descriptions_en['E_Hp_f'] = par_descriptions_en['E_Hp'] + ' for females'"
   ]
  },
  {
   "cell_type": "code",
   "execution_count": 5,
   "metadata": {},
   "outputs": [],
   "source": [
    "heatmap_par_labels = [f'${tex_par_symbols[p]}$' for p in par_order]\n",
    "heatmap_bounds = (7.5, 12)\n",
    "colormap = 'cividis'"
   ]
  },
  {
   "cell_type": "code",
   "execution_count": 6,
   "metadata": {},
   "outputs": [],
   "source": [
    "non_estimated_pars = {'k_J': 0.002, 'kap_R': 0.95, 'T': 311.75}"
   ]
  },
  {
   "cell_type": "markdown",
   "metadata": {},
   "source": [
    "## Auxiliary functions"
   ]
  },
  {
   "cell_type": "code",
   "execution_count": 7,
   "metadata": {},
   "outputs": [],
   "source": [
    "def compute_deviation(val, ref):\n",
    "    return (val - ref) / ref"
   ]
  },
  {
   "cell_type": "code",
   "execution_count": 8,
   "metadata": {},
   "outputs": [],
   "source": [
    "def set_in_bold_if_lower(text, val, ref):\n",
    "    if not len(text):\n",
    "        return text\n",
    "    if val < ref:\n",
    "        return r'\\textbf{' + text + r'}'\n",
    "    return text"
   ]
  },
  {
   "cell_type": "code",
   "execution_count": 38,
   "metadata": {},
   "outputs": [],
   "source": [
    "def seconds_to_time(seconds):\n",
    "    return str(td(seconds=round(seconds)))"
   ]
  },
  {
   "cell_type": "markdown",
   "metadata": {},
   "source": [
    "# Estimation Results Tables"
   ]
  },
  {
   "cell_type": "markdown",
   "metadata": {},
   "source": [
    "## Breed tier"
   ]
  },
  {
   "cell_type": "code",
   "execution_count": 9,
   "metadata": {},
   "outputs": [],
   "source": [
    "multitier.tiers['breed'].load_results()\n",
    "breed_tier = multitier.tiers['breed']"
   ]
  },
  {
   "cell_type": "markdown",
   "metadata": {},
   "source": [
    "### Breed data errors"
   ]
  },
  {
   "cell_type": "code",
   "execution_count": 10,
   "metadata": {},
   "outputs": [
    {
     "data": {
      "text/html": [
       "<div>\n",
       "<style scoped>\n",
       "    .dataframe tbody tr th:only-of-type {\n",
       "        vertical-align: middle;\n",
       "    }\n",
       "\n",
       "    .dataframe tbody tr th {\n",
       "        vertical-align: top;\n",
       "    }\n",
       "\n",
       "    .dataframe thead th {\n",
       "        text-align: right;\n",
       "    }\n",
       "</style>\n",
       "<table border=\"1\" class=\"dataframe\">\n",
       "  <thead>\n",
       "    <tr style=\"text-align: right;\">\n",
       "      <th></th>\n",
       "      <th>value</th>\n",
       "      <th>prediction</th>\n",
       "      <th>error</th>\n",
       "      <th>name</th>\n",
       "      <th>source</th>\n",
       "      <th>unit</th>\n",
       "    </tr>\n",
       "    <tr>\n",
       "      <th>data</th>\n",
       "      <th></th>\n",
       "      <th></th>\n",
       "      <th></th>\n",
       "      <th></th>\n",
       "      <th></th>\n",
       "      <th></th>\n",
       "    </tr>\n",
       "  </thead>\n",
       "  <tbody>\n",
       "    <tr>\n",
       "      <th>ab</th>\n",
       "      <td>284</td>\n",
       "      <td>276</td>\n",
       "      <td>2.9\\%</td>\n",
       "      <td>Gestation time</td>\n",
       "      <td>\\cite{quaresma_twinning_2004}</td>\n",
       "      <td>$\\mathrm{d}$</td>\n",
       "    </tr>\n",
       "    <tr>\n",
       "      <th>am</th>\n",
       "      <td>20</td>\n",
       "      <td>20</td>\n",
       "      <td>0.0\\%</td>\n",
       "      <td>Lifespan</td>\n",
       "      <td>\\cite{bettencourt_atuacao_2021}</td>\n",
       "      <td>$\\mathrm{year}$</td>\n",
       "    </tr>\n",
       "    <tr>\n",
       "      <th>Ri</th>\n",
       "      <td>0.0022</td>\n",
       "      <td>0.0022</td>\n",
       "      <td>0.2\\%</td>\n",
       "      <td>Maximum reproduction rate</td>\n",
       "      <td>\\cite{acbm_associacao_2023}</td>\n",
       "      <td>$\\mathrm{calves/d}$</td>\n",
       "    </tr>\n",
       "    <tr>\n",
       "      <th>tx_f</th>\n",
       "      <td>210</td>\n",
       "      <td>223</td>\n",
       "      <td>6.3\\%</td>\n",
       "      <td>Time since birth at weaning for females</td>\n",
       "      <td>\\cite{acbm_associacao_2023}</td>\n",
       "      <td>$\\mathrm{d}$</td>\n",
       "    </tr>\n",
       "    <tr>\n",
       "      <th>tp_f</th>\n",
       "      <td>288.9583</td>\n",
       "      <td>314.4400</td>\n",
       "      <td>8.8\\%</td>\n",
       "      <td>Time since birth at puberty for females</td>\n",
       "      <td>\\cite{acbm_associacao_2023}</td>\n",
       "      <td>$\\mathrm{d}$</td>\n",
       "    </tr>\n",
       "  </tbody>\n",
       "</table>\n",
       "</div>"
      ],
      "text/plain": [
       "         value prediction  error                                     name  \\\n",
       "data                                                                        \n",
       "ab         284        276  2.9\\%                           Gestation time   \n",
       "am          20         20  0.0\\%                                 Lifespan   \n",
       "Ri      0.0022     0.0022  0.2\\%                Maximum reproduction rate   \n",
       "tx_f       210        223  6.3\\%  Time since birth at weaning for females   \n",
       "tp_f  288.9583   314.4400  8.8\\%  Time since birth at puberty for females   \n",
       "\n",
       "                               source                 unit  \n",
       "data                                                        \n",
       "ab      \\cite{quaresma_twinning_2004}         $\\mathrm{d}$  \n",
       "am    \\cite{bettencourt_atuacao_2021}      $\\mathrm{year}$  \n",
       "Ri        \\cite{acbm_associacao_2023}  $\\mathrm{calves/d}$  \n",
       "tx_f      \\cite{acbm_associacao_2023}         $\\mathrm{d}$  \n",
       "tp_f      \\cite{acbm_associacao_2023}         $\\mathrm{d}$  "
      ]
     },
     "execution_count": 10,
     "metadata": {},
     "output_type": "execute_result"
    }
   ],
   "source": [
    "breed_data_errors = pd.read_csv(f\"{breed_tier.output_folder}/breed_extra_data_errors.csv\", index_col='data')\n",
    "\n",
    "names_sources_units_list = [\n",
    "    ['Gestation time', '\\\\cite{quaresma_twinning_2004}', '$\\\\mathrm{d}$'],\n",
    "    ['Lifespan', '\\\\cite{bettencourt_atuacao_2021}', '$\\\\mathrm{year}$'],\n",
    "    ['Maximum reproduction rate', '\\\\cite{acbm_associacao_2023}', '$\\\\mathrm{calves/d}$'],\n",
    "    ['Time since birth at weaning for females', '\\\\cite{acbm_associacao_2023}', '$\\\\mathrm{d}$'],\n",
    "    ['Time since birth at puberty for females', '\\\\cite{acbm_associacao_2023}', '$\\\\mathrm{d}$'],\n",
    "    ['Maximum withers height for males', '\\\\cite{fao_domestic_2023}', '$\\\\mathrm{cm}$'],\n",
    "    ['Wet weight at birth for females', '\\\\cite{quaresma_twinning_2004}', '$\\\\mathrm{kg}$'],\n",
    "    ['Wet weight at weaning for females', '\\\\cite{carolino_racbovina_2020}', '$\\\\mathrm{kg}$'],\n",
    "    ['Wet weight at puberty for females', 'Expert knowledge', '$\\\\mathrm{kg}$'],\n",
    "    ['Maximum wet weight for females', '\\\\cite{fao_domestic_2023}', '$\\\\mathrm{kg}$'],\n",
    "    ['Time since birth at weaning for males', '\\\\cite{acbm_associacao_2023}', '$\\\\mathrm{d}$'],\n",
    "    ['Time since birth at puberty for males', '\\\\cite{monteiro_intramuscular_2012}', '$\\\\mathrm{d}$'],\n",
    "    ['Maximum withers height for males', '\\\\cite{fao_domestic_2023}', '$\\\\mathrm{cm}$'],\n",
    "    ['Wet weight at birth for males', '\\\\cite{quaresma_twinning_2004}', '$\\\\mathrm{kg}$'],\n",
    "    ['Wet weight at weaning for males', '\\\\cite{carolino_racbovina_2020}', '$\\\\mathrm{kg}$'],\n",
    "    ['Wet weight at puberty for males', 'Expert knowledge', '$\\\\mathrm{kg}$'],\n",
    "    ['Maximum wet weight for males', '\\\\cite{fao_domestic_2023}', '$\\\\mathrm{kg}$'],\n",
    "]\n",
    "names_sources_units = pd.DataFrame(names_sources_units_list, columns=['name', 'source', 'unit'],\n",
    "                                   index=breed_data_errors.index)\n",
    "breed_data_errors = breed_data_errors.join(names_sources_units)\n",
    "\n",
    "breed_data_errors['error'] *= 100\n",
    "breed_data_errors['error'] = breed_data_errors['error'].apply(lambda x: f\"{x:.1f}\\%\")\n",
    "for dt in breed_data_errors.index.values:\n",
    "    if 'kg' in breed_data_errors.loc[dt, 'unit']:\n",
    "        breed_data_errors.loc[dt, 'value'] /= 1000\n",
    "        breed_data_errors.loc[dt, 'prediction'] /= 1000\n",
    "    if 'year' in breed_data_errors.loc[dt, 'unit']:\n",
    "        breed_data_errors.loc[dt, 'value'] /= 365\n",
    "        breed_data_errors.loc[dt, 'prediction'] /= 365\n",
    "    # Get how many decimal places are in value\n",
    "    str_value_spl = str(breed_data_errors.loc[dt, 'value']).split('.')[1]\n",
    "    n_decimals = len(str_value_spl)\n",
    "    if str_value_spl == '0':\n",
    "        n_decimals = 0\n",
    "    if len(str_value_spl) > 1:\n",
    "        n_decimals = 4\n",
    "    breed_data_errors.loc[dt, 'value'] = f\"{breed_data_errors.loc[dt, 'value']:.{n_decimals}f}\"\n",
    "    breed_data_errors.loc[dt, 'prediction'] = f\"{breed_data_errors.loc[dt, 'prediction']:.{n_decimals}f}\"\n",
    "breed_data_errors.head()\n"
   ]
  },
  {
   "cell_type": "code",
   "execution_count": 11,
   "metadata": {},
   "outputs": [
    {
     "name": "stdout",
     "output_type": "stream",
     "text": [
      "Gestation time & \\cite{quaresma_twinning_2004} & 284 & 276 & 2.9\\% & $\\mathrm{d}$ \\\\\n",
      "Lifespan & \\cite{bettencourt_atuacao_2021} & 20 & 20 & 0.0\\% & $\\mathrm{year}$ \\\\\n",
      "Maximum reproduction rate & \\cite{acbm_associacao_2023} & 0.0022 & 0.0022 & 0.2\\% & $\\mathrm{calves/d}$ \\\\\n",
      "Time since birth at weaning for females & \\cite{acbm_associacao_2023} & 210 & 223 & 6.3\\% & $\\mathrm{d}$ \\\\\n",
      "Time since birth at puberty for females & \\cite{acbm_associacao_2023} & 288.9583 & 314.4400 & 8.8\\% & $\\mathrm{d}$ \\\\\n",
      "Maximum withers height for males & \\cite{fao_domestic_2023} & 155 & 150 & 3.1\\% & $\\mathrm{cm}$ \\\\\n",
      "Wet weight at birth for females & \\cite{quaresma_twinning_2004} & 46 & 47 & 3.2\\% & $\\mathrm{kg}$ \\\\\n",
      "Wet weight at weaning for females & \\cite{carolino_racbovina_2020} & 155.4 & 142.5 & 8.3\\% & $\\mathrm{kg}$ \\\\\n",
      "Wet weight at puberty for females & Expert knowledge & 205 & 183 & 10.7\\% & $\\mathrm{kg}$ \\\\\n",
      "Maximum wet weight for females & \\cite{fao_domestic_2023} & 400 & 447 & 11.8\\% & $\\mathrm{kg}$ \\\\\n",
      "Time since birth at weaning for males & \\cite{acbm_associacao_2023} & 210 & 212 & 1.1\\% & $\\mathrm{d}$ \\\\\n",
      "Time since birth at puberty for males & \\cite{monteiro_intramuscular_2012} & 349.7917 & 383.5057 & 9.6\\% & $\\mathrm{d}$ \\\\\n",
      "Maximum withers height for males & \\cite{fao_domestic_2023} & 165 & 170 & 3.2\\% & $\\mathrm{cm}$ \\\\\n",
      "Wet weight at birth for males & \\cite{quaresma_twinning_2004} & 46 & 53 & 15.8\\% & $\\mathrm{kg}$ \\\\\n",
      "Wet weight at weaning for males & \\cite{carolino_racbovina_2020} & 177.8 & 175.4 & 1.4\\% & $\\mathrm{kg}$ \\\\\n",
      "Wet weight at puberty for males & Expert knowledge & 320 & 287 & 10.3\\% & $\\mathrm{kg}$ \\\\\n",
      "Maximum wet weight for males & \\cite{fao_domestic_2023} & 700 & 730 & 4.2\\% & $\\mathrm{kg}$ \\\\\n"
     ]
    }
   ],
   "source": [
    "for dt in breed_data_errors.index.values:\n",
    "    print(f\"{breed_data_errors.loc[dt, 'name']} & \"\n",
    "          f\"{breed_data_errors.loc[dt, 'source']} & \"\n",
    "          f\"{breed_data_errors.loc[dt, 'value']} & \"\n",
    "          f\"{breed_data_errors.loc[dt, 'prediction']} & \"\n",
    "          f\"{breed_data_errors.loc[dt, 'error']} & \"\n",
    "          f\"{breed_data_errors.loc[dt, 'unit']} \\\\\\\\\")"
   ]
  },
  {
   "cell_type": "markdown",
   "metadata": {},
   "source": [
    "### Individual data errors"
   ]
  },
  {
   "cell_type": "code",
   "execution_count": 12,
   "metadata": {},
   "outputs": [
    {
     "name": "stdout",
     "output_type": "stream",
     "text": [
      "Weight & 7.4 $\\pm$ 2.2 \\% \\\\\n",
      "Feed intake & 16.1 $\\pm$ 6.5 \\% \\\\\n",
      "All & 11.7 $\\pm$ 3.0 \\% \\\\\n"
     ]
    }
   ],
   "source": [
    "breed_tier.ind_data_errors['avg'] = np.mean(breed_tier.ind_data_errors[['tJX', 'tW']], axis=1)\n",
    "breed_tier.ind_data_errors\n",
    "\n",
    "for data_type, data_type_name in data_type_labels.items():\n",
    "    print(f\"{data_type_name} & \"\n",
    "          f\"{breed_tier.ind_data_errors[data_type].mean()*100:.1f} $\\\\pm$ \"\n",
    "          f\"{breed_tier.ind_data_errors[data_type].std()*100:.1f} \\\\% \\\\\\\\\")    "
   ]
  },
  {
   "cell_type": "code",
   "execution_count": 13,
   "metadata": {},
   "outputs": [
    {
     "data": {
      "text/html": [
       "<div>\n",
       "<style scoped>\n",
       "    .dataframe tbody tr th:only-of-type {\n",
       "        vertical-align: middle;\n",
       "    }\n",
       "\n",
       "    .dataframe tbody tr th {\n",
       "        vertical-align: top;\n",
       "    }\n",
       "\n",
       "    .dataframe thead th {\n",
       "        text-align: right;\n",
       "    }\n",
       "</style>\n",
       "<table border=\"1\" class=\"dataframe\">\n",
       "  <thead>\n",
       "    <tr style=\"text-align: right;\">\n",
       "      <th></th>\n",
       "      <th>estim_time</th>\n",
       "      <th>tJX</th>\n",
       "      <th>tW</th>\n",
       "      <th>avg</th>\n",
       "    </tr>\n",
       "    <tr>\n",
       "      <th>tier_sample</th>\n",
       "      <th></th>\n",
       "      <th></th>\n",
       "      <th></th>\n",
       "      <th></th>\n",
       "    </tr>\n",
       "  </thead>\n",
       "  <tbody>\n",
       "    <tr>\n",
       "      <th>male</th>\n",
       "      <td>1189.908154</td>\n",
       "      <td>0.160771</td>\n",
       "      <td>0.074192</td>\n",
       "      <td>0.117482</td>\n",
       "    </tr>\n",
       "  </tbody>\n",
       "</table>\n",
       "</div>"
      ],
      "text/plain": [
       "              estim_time       tJX        tW       avg\n",
       "tier_sample                                           \n",
       "male         1189.908154  0.160771  0.074192  0.117482"
      ]
     },
     "execution_count": 13,
     "metadata": {},
     "output_type": "execute_result"
    }
   ],
   "source": [
    "breed_tier.tier_errors['avg'] = np.mean(breed_tier.tier_errors[['tJX', 'tW']], axis=1)\n",
    "breed_tier.tier_errors"
   ]
  },
  {
   "cell_type": "markdown",
   "metadata": {},
   "source": [
    "### Parameters"
   ]
  },
  {
   "cell_type": "code",
   "execution_count": 14,
   "metadata": {},
   "outputs": [
    {
     "name": "stdout",
     "output_type": "stream",
     "text": [
      "$\\{\\dot{p}_{Am}\\}$ & Surface-specific maximum assimilation rate & \\num{4313} & \\unit{J/d \\cdot cm^2} \\\\\n",
      "$\\kappa_X$ & Digestion efficiency & \\num{0.116} & \\unit{-} \\\\\n",
      "$[\\dot{p}_M]$ & Volume-specific somatic maintenance rate & \\num{106.0} & \\unit{J/d \\cdot cm^3} \\\\\n",
      "$\\dot{v}$ & Energy conductance & \\num{0.049} & \\unit{cm/d} \\\\\n",
      "$\\kappa$ & Allocation fraction to soma & \\num{0.926} & \\unit{-} \\\\\n",
      "$[E_G]$ & Specific cost of structure & \\num{7836} & \\unit{J/cm^3} \\\\\n",
      "$E_H^b$ & Maturity at birth & \\num{7.208e+06} & \\unit{J} \\\\\n",
      "$E_H^x$ & Maturity at weaning & \\num{3.925e+07} & \\unit{J} \\\\\n",
      "$E_H^p$ & Maturity at puberty & \\num{7.224e+07} & \\unit{J} \\\\\n",
      "$\\ddot{h}_a$ & Weibull aging acceleration & \\num{7.161e-08} & \\unit{d^{-2}} \\\\\n",
      "$t_0$ & Diapause & \\num{88} & \\unit{d} \\\\\n",
      "$\\delta_M$ & Shape coefficient & \\num{0.221} & \\unit{-} \\\\\n",
      "$_f\\!\\{\\dot{p}_{Am}\\}$ & Surface-specific maximum assimilation rate for females & \\num{3807} & \\unit{J/d \\cdot cm^2} \\\\\n",
      "$_f\\!E_H^x$ & Maturity at weaning for females & \\num{3.701e+07} & \\unit{J} \\\\\n",
      "$_f\\!E_H^p$ & Maturity at puberty for females & \\num{5.078e+07} & \\unit{J} \\\\\n"
     ]
    }
   ],
   "source": [
    "breed_pars_df = breed_tier.pars_df.loc['male']\n",
    "for par in breed_pars_df.index:\n",
    "    if par in n_digits:\n",
    "        formatted_value = f\"{breed_pars_df[par]:.{n_digits[par]}f}\"\n",
    "    else:\n",
    "        formatted_value = f\"{breed_pars_df[par]:.3e}\"\n",
    "    print(f\"${tex_par_symbols[par]}$ & \"\n",
    "          f\"{par_descriptions_en[par]} & \" \n",
    "          f\"\\\\num{{{formatted_value}}} & \"\n",
    "          f\"\\\\unit{{{tex_par_units[par]}}} \\\\\\\\\")\n"
   ]
  },
  {
   "cell_type": "markdown",
   "metadata": {},
   "source": [
    "### Estimation times"
   ]
  },
  {
   "cell_type": "code",
   "execution_count": 39,
   "metadata": {},
   "outputs": [
    {
     "data": {
      "text/plain": [
       "'0:19:50'"
      ]
     },
     "execution_count": 39,
     "metadata": {},
     "output_type": "execute_result"
    }
   ],
   "source": [
    "seconds_to_time(breed_tier.tier_errors.estim_time.iloc[0])"
   ]
  },
  {
   "cell_type": "markdown",
   "metadata": {},
   "source": [
    "## Trial tier"
   ]
  },
  {
   "cell_type": "markdown",
   "metadata": {},
   "source": [
    "### Load results for all parameter combinations"
   ]
  },
  {
   "cell_type": "code",
   "execution_count": 49,
   "metadata": {},
   "outputs": [],
   "source": [
    "trial_tier = multitier.tiers['trial']\n",
    "\n",
    "trial_tier_estim_list = os.listdir(f\"{multitier.output_folder}/trial\")\n",
    "# Sort trial_tier_estim_list according to par_order\n",
    "trial_tier_estim_list.sort(key=estim_sort_key)\n",
    "\n",
    "all_trial_pars_df_dict = {}\n",
    "all_trial_ind_data_errors_df_dict = {}\n",
    "all_trial_estim_times = []\n",
    "\n",
    "for estim in trial_tier_estim_list:\n",
    "    tier_pars = estim.split()\n",
    "    multitier.set_tier_parameters('trial', tier_pars)\n",
    "    trial_tier.output_folder = f\"{multitier.output_folder}/trial/{' '.join(tier_pars)}\"\n",
    "    trial_tier.load_results()\n",
    "    all_trial_pars_df_dict[estim] = trial_tier.pars_df.copy()\n",
    "    all_trial_ind_data_errors_df_dict[estim] = trial_tier.ind_data_errors.copy()\n",
    "    all_trial_estim_times.append(trial_tier.tier_errors.estim_time)\n",
    "trial_pars_df = pd.concat(all_trial_pars_df_dict, names=['estim'])\n",
    "trial_ind_data_errors_df = pd.concat(all_trial_ind_data_errors_df_dict, names=['estim'])\n",
    "trial_estim_times = pd.DataFrame(all_trial_estim_times, index=trial_tier_estim_list)\n",
    "trial_ind_data_errors_df['avg'] = np.mean(trial_ind_data_errors_df[['tJX', 'tW']], axis=1)\n"
   ]
  },
  {
   "cell_type": "code",
   "execution_count": 50,
   "metadata": {},
   "outputs": [
    {
     "data": {
      "text/html": [
       "<div>\n",
       "<style scoped>\n",
       "    .dataframe tbody tr th:only-of-type {\n",
       "        vertical-align: middle;\n",
       "    }\n",
       "\n",
       "    .dataframe tbody tr th {\n",
       "        vertical-align: top;\n",
       "    }\n",
       "\n",
       "    .dataframe thead th {\n",
       "        text-align: right;\n",
       "    }\n",
       "</style>\n",
       "<table border=\"1\" class=\"dataframe\">\n",
       "  <thead>\n",
       "    <tr style=\"text-align: right;\">\n",
       "      <th>tier_sample</th>\n",
       "      <th>Trial2020</th>\n",
       "      <th>Trial2021</th>\n",
       "    </tr>\n",
       "  </thead>\n",
       "  <tbody>\n",
       "    <tr>\n",
       "      <th>p_Am</th>\n",
       "      <td>2.241667</td>\n",
       "      <td>2.446616</td>\n",
       "    </tr>\n",
       "    <tr>\n",
       "      <th>kap_X</th>\n",
       "      <td>1.181579</td>\n",
       "      <td>1.080606</td>\n",
       "    </tr>\n",
       "    <tr>\n",
       "      <th>p_M</th>\n",
       "      <td>1.957287</td>\n",
       "      <td>1.976937</td>\n",
       "    </tr>\n",
       "    <tr>\n",
       "      <th>v</th>\n",
       "      <td>1.191557</td>\n",
       "      <td>1.098638</td>\n",
       "    </tr>\n",
       "    <tr>\n",
       "      <th>kap</th>\n",
       "      <td>3.424080</td>\n",
       "      <td>1.076313</td>\n",
       "    </tr>\n",
       "    <tr>\n",
       "      <th>p_Am kap_X</th>\n",
       "      <td>24.374123</td>\n",
       "      <td>7.058878</td>\n",
       "    </tr>\n",
       "    <tr>\n",
       "      <th>p_Am p_M</th>\n",
       "      <td>3.967893</td>\n",
       "      <td>3.894276</td>\n",
       "    </tr>\n",
       "    <tr>\n",
       "      <th>p_Am v</th>\n",
       "      <td>3.960622</td>\n",
       "      <td>3.991195</td>\n",
       "    </tr>\n",
       "    <tr>\n",
       "      <th>p_Am kap</th>\n",
       "      <td>3.541449</td>\n",
       "      <td>3.110146</td>\n",
       "    </tr>\n",
       "    <tr>\n",
       "      <th>kap_X p_M</th>\n",
       "      <td>3.595336</td>\n",
       "      <td>3.601995</td>\n",
       "    </tr>\n",
       "    <tr>\n",
       "      <th>kap_X v</th>\n",
       "      <td>2.094140</td>\n",
       "      <td>2.236989</td>\n",
       "    </tr>\n",
       "    <tr>\n",
       "      <th>kap_X kap</th>\n",
       "      <td>1.915459</td>\n",
       "      <td>2.341388</td>\n",
       "    </tr>\n",
       "    <tr>\n",
       "      <th>p_M v</th>\n",
       "      <td>2.989862</td>\n",
       "      <td>3.263251</td>\n",
       "    </tr>\n",
       "    <tr>\n",
       "      <th>p_M kap</th>\n",
       "      <td>2.570577</td>\n",
       "      <td>3.254498</td>\n",
       "    </tr>\n",
       "    <tr>\n",
       "      <th>v kap</th>\n",
       "      <td>1.726640</td>\n",
       "      <td>1.763159</td>\n",
       "    </tr>\n",
       "  </tbody>\n",
       "</table>\n",
       "</div>"
      ],
      "text/plain": [
       "tier_sample  Trial2020  Trial2021\n",
       "p_Am          2.241667   2.446616\n",
       "kap_X         1.181579   1.080606\n",
       "p_M           1.957287   1.976937\n",
       "v             1.191557   1.098638\n",
       "kap           3.424080   1.076313\n",
       "p_Am kap_X   24.374123   7.058878\n",
       "p_Am p_M      3.967893   3.894276\n",
       "p_Am v        3.960622   3.991195\n",
       "p_Am kap      3.541449   3.110146\n",
       "kap_X p_M     3.595336   3.601995\n",
       "kap_X v       2.094140   2.236989\n",
       "kap_X kap     1.915459   2.341388\n",
       "p_M v         2.989862   3.263251\n",
       "p_M kap       2.570577   3.254498\n",
       "v kap         1.726640   1.763159"
      ]
     },
     "execution_count": 50,
     "metadata": {},
     "output_type": "execute_result"
    }
   ],
   "source": [
    "trial_estim_times"
   ]
  },
  {
   "cell_type": "code",
   "execution_count": 16,
   "metadata": {},
   "outputs": [
    {
     "data": {
      "text/html": [
       "<div>\n",
       "<style scoped>\n",
       "    .dataframe tbody tr th:only-of-type {\n",
       "        vertical-align: middle;\n",
       "    }\n",
       "\n",
       "    .dataframe tbody tr th {\n",
       "        vertical-align: top;\n",
       "    }\n",
       "\n",
       "    .dataframe thead th {\n",
       "        text-align: right;\n",
       "    }\n",
       "</style>\n",
       "<table border=\"1\" class=\"dataframe\">\n",
       "  <thead>\n",
       "    <tr style=\"text-align: right;\">\n",
       "      <th></th>\n",
       "      <th></th>\n",
       "      <th>p_Am</th>\n",
       "      <th>kap_X</th>\n",
       "      <th>p_M</th>\n",
       "      <th>v</th>\n",
       "      <th>kap</th>\n",
       "    </tr>\n",
       "    <tr>\n",
       "      <th>estim</th>\n",
       "      <th>tier_sample</th>\n",
       "      <th></th>\n",
       "      <th></th>\n",
       "      <th></th>\n",
       "      <th></th>\n",
       "      <th></th>\n",
       "    </tr>\n",
       "  </thead>\n",
       "  <tbody>\n",
       "    <tr>\n",
       "      <th rowspan=\"2\" valign=\"top\">p_Am</th>\n",
       "      <th>Trial2020</th>\n",
       "      <td>4694.362153</td>\n",
       "      <td>NaN</td>\n",
       "      <td>NaN</td>\n",
       "      <td>NaN</td>\n",
       "      <td>NaN</td>\n",
       "    </tr>\n",
       "    <tr>\n",
       "      <th>Trial2021</th>\n",
       "      <td>4389.252279</td>\n",
       "      <td>NaN</td>\n",
       "      <td>NaN</td>\n",
       "      <td>NaN</td>\n",
       "      <td>NaN</td>\n",
       "    </tr>\n",
       "    <tr>\n",
       "      <th rowspan=\"2\" valign=\"top\">kap_X</th>\n",
       "      <th>Trial2020</th>\n",
       "      <td>NaN</td>\n",
       "      <td>0.110320</td>\n",
       "      <td>NaN</td>\n",
       "      <td>NaN</td>\n",
       "      <td>NaN</td>\n",
       "    </tr>\n",
       "    <tr>\n",
       "      <th>Trial2021</th>\n",
       "      <td>NaN</td>\n",
       "      <td>0.121776</td>\n",
       "      <td>NaN</td>\n",
       "      <td>NaN</td>\n",
       "      <td>NaN</td>\n",
       "    </tr>\n",
       "    <tr>\n",
       "      <th rowspan=\"2\" valign=\"top\">p_M</th>\n",
       "      <th>Trial2020</th>\n",
       "      <td>NaN</td>\n",
       "      <td>NaN</td>\n",
       "      <td>93.473557</td>\n",
       "      <td>NaN</td>\n",
       "      <td>NaN</td>\n",
       "    </tr>\n",
       "    <tr>\n",
       "      <th>Trial2021</th>\n",
       "      <td>NaN</td>\n",
       "      <td>NaN</td>\n",
       "      <td>98.230757</td>\n",
       "      <td>NaN</td>\n",
       "      <td>NaN</td>\n",
       "    </tr>\n",
       "    <tr>\n",
       "      <th rowspan=\"2\" valign=\"top\">v</th>\n",
       "      <th>Trial2020</th>\n",
       "      <td>NaN</td>\n",
       "      <td>NaN</td>\n",
       "      <td>NaN</td>\n",
       "      <td>0.052595</td>\n",
       "      <td>NaN</td>\n",
       "    </tr>\n",
       "    <tr>\n",
       "      <th>Trial2021</th>\n",
       "      <td>NaN</td>\n",
       "      <td>NaN</td>\n",
       "      <td>NaN</td>\n",
       "      <td>0.045678</td>\n",
       "      <td>NaN</td>\n",
       "    </tr>\n",
       "    <tr>\n",
       "      <th rowspan=\"2\" valign=\"top\">kap</th>\n",
       "      <th>Trial2020</th>\n",
       "      <td>NaN</td>\n",
       "      <td>NaN</td>\n",
       "      <td>NaN</td>\n",
       "      <td>NaN</td>\n",
       "      <td>0.978865</td>\n",
       "    </tr>\n",
       "    <tr>\n",
       "      <th>Trial2021</th>\n",
       "      <td>NaN</td>\n",
       "      <td>NaN</td>\n",
       "      <td>NaN</td>\n",
       "      <td>NaN</td>\n",
       "      <td>0.978865</td>\n",
       "    </tr>\n",
       "    <tr>\n",
       "      <th rowspan=\"2\" valign=\"top\">p_Am kap_X</th>\n",
       "      <th>Trial2020</th>\n",
       "      <td>4710.938754</td>\n",
       "      <td>0.116645</td>\n",
       "      <td>NaN</td>\n",
       "      <td>NaN</td>\n",
       "      <td>NaN</td>\n",
       "    </tr>\n",
       "    <tr>\n",
       "      <th>Trial2021</th>\n",
       "      <td>4738.300065</td>\n",
       "      <td>0.129258</td>\n",
       "      <td>NaN</td>\n",
       "      <td>NaN</td>\n",
       "      <td>NaN</td>\n",
       "    </tr>\n",
       "    <tr>\n",
       "      <th rowspan=\"2\" valign=\"top\">p_Am p_M</th>\n",
       "      <th>Trial2020</th>\n",
       "      <td>4609.483630</td>\n",
       "      <td>NaN</td>\n",
       "      <td>101.466316</td>\n",
       "      <td>NaN</td>\n",
       "      <td>NaN</td>\n",
       "    </tr>\n",
       "    <tr>\n",
       "      <th>Trial2021</th>\n",
       "      <td>4166.603801</td>\n",
       "      <td>NaN</td>\n",
       "      <td>94.125119</td>\n",
       "      <td>NaN</td>\n",
       "      <td>NaN</td>\n",
       "    </tr>\n",
       "    <tr>\n",
       "      <th rowspan=\"2\" valign=\"top\">p_Am v</th>\n",
       "      <th>Trial2020</th>\n",
       "      <td>4709.774277</td>\n",
       "      <td>NaN</td>\n",
       "      <td>NaN</td>\n",
       "      <td>0.049050</td>\n",
       "      <td>NaN</td>\n",
       "    </tr>\n",
       "    <tr>\n",
       "      <th>Trial2021</th>\n",
       "      <td>4641.307304</td>\n",
       "      <td>NaN</td>\n",
       "      <td>NaN</td>\n",
       "      <td>0.043166</td>\n",
       "      <td>NaN</td>\n",
       "    </tr>\n",
       "    <tr>\n",
       "      <th rowspan=\"2\" valign=\"top\">p_Am kap</th>\n",
       "      <th>Trial2020</th>\n",
       "      <td>4605.652492</td>\n",
       "      <td>NaN</td>\n",
       "      <td>NaN</td>\n",
       "      <td>NaN</td>\n",
       "      <td>0.968534</td>\n",
       "    </tr>\n",
       "    <tr>\n",
       "      <th>Trial2021</th>\n",
       "      <td>4284.722013</td>\n",
       "      <td>NaN</td>\n",
       "      <td>NaN</td>\n",
       "      <td>NaN</td>\n",
       "      <td>0.978428</td>\n",
       "    </tr>\n",
       "    <tr>\n",
       "      <th rowspan=\"2\" valign=\"top\">kap_X p_M</th>\n",
       "      <th>Trial2020</th>\n",
       "      <td>NaN</td>\n",
       "      <td>0.112616</td>\n",
       "      <td>95.403145</td>\n",
       "      <td>NaN</td>\n",
       "      <td>NaN</td>\n",
       "    </tr>\n",
       "    <tr>\n",
       "      <th>Trial2021</th>\n",
       "      <td>NaN</td>\n",
       "      <td>0.124734</td>\n",
       "      <td>93.754918</td>\n",
       "      <td>NaN</td>\n",
       "      <td>NaN</td>\n",
       "    </tr>\n",
       "    <tr>\n",
       "      <th rowspan=\"2\" valign=\"top\">kap_X v</th>\n",
       "      <th>Trial2020</th>\n",
       "      <td>NaN</td>\n",
       "      <td>0.109836</td>\n",
       "      <td>NaN</td>\n",
       "      <td>0.049017</td>\n",
       "      <td>NaN</td>\n",
       "    </tr>\n",
       "    <tr>\n",
       "      <th>Trial2021</th>\n",
       "      <td>NaN</td>\n",
       "      <td>0.118127</td>\n",
       "      <td>NaN</td>\n",
       "      <td>0.046698</td>\n",
       "      <td>NaN</td>\n",
       "    </tr>\n",
       "    <tr>\n",
       "      <th rowspan=\"2\" valign=\"top\">kap_X kap</th>\n",
       "      <th>Trial2020</th>\n",
       "      <td>NaN</td>\n",
       "      <td>0.111580</td>\n",
       "      <td>NaN</td>\n",
       "      <td>NaN</td>\n",
       "      <td>0.978866</td>\n",
       "    </tr>\n",
       "    <tr>\n",
       "      <th>Trial2021</th>\n",
       "      <td>NaN</td>\n",
       "      <td>0.123174</td>\n",
       "      <td>NaN</td>\n",
       "      <td>NaN</td>\n",
       "      <td>0.978866</td>\n",
       "    </tr>\n",
       "    <tr>\n",
       "      <th rowspan=\"2\" valign=\"top\">p_M v</th>\n",
       "      <th>Trial2020</th>\n",
       "      <td>NaN</td>\n",
       "      <td>NaN</td>\n",
       "      <td>94.764191</td>\n",
       "      <td>0.051427</td>\n",
       "      <td>NaN</td>\n",
       "    </tr>\n",
       "    <tr>\n",
       "      <th>Trial2021</th>\n",
       "      <td>NaN</td>\n",
       "      <td>NaN</td>\n",
       "      <td>94.904866</td>\n",
       "      <td>0.044718</td>\n",
       "      <td>NaN</td>\n",
       "    </tr>\n",
       "    <tr>\n",
       "      <th rowspan=\"2\" valign=\"top\">p_M kap</th>\n",
       "      <th>Trial2020</th>\n",
       "      <td>NaN</td>\n",
       "      <td>NaN</td>\n",
       "      <td>97.280836</td>\n",
       "      <td>NaN</td>\n",
       "      <td>0.982337</td>\n",
       "    </tr>\n",
       "    <tr>\n",
       "      <th>Trial2021</th>\n",
       "      <td>NaN</td>\n",
       "      <td>NaN</td>\n",
       "      <td>101.425419</td>\n",
       "      <td>NaN</td>\n",
       "      <td>0.969370</td>\n",
       "    </tr>\n",
       "    <tr>\n",
       "      <th rowspan=\"2\" valign=\"top\">v kap</th>\n",
       "      <th>Trial2020</th>\n",
       "      <td>NaN</td>\n",
       "      <td>NaN</td>\n",
       "      <td>NaN</td>\n",
       "      <td>0.052045</td>\n",
       "      <td>0.978866</td>\n",
       "    </tr>\n",
       "    <tr>\n",
       "      <th>Trial2021</th>\n",
       "      <td>NaN</td>\n",
       "      <td>NaN</td>\n",
       "      <td>NaN</td>\n",
       "      <td>0.045210</td>\n",
       "      <td>0.978866</td>\n",
       "    </tr>\n",
       "  </tbody>\n",
       "</table>\n",
       "</div>"
      ],
      "text/plain": [
       "                               p_Am     kap_X         p_M         v       kap\n",
       "estim      tier_sample                                                       \n",
       "p_Am       Trial2020    4694.362153       NaN         NaN       NaN       NaN\n",
       "           Trial2021    4389.252279       NaN         NaN       NaN       NaN\n",
       "kap_X      Trial2020            NaN  0.110320         NaN       NaN       NaN\n",
       "           Trial2021            NaN  0.121776         NaN       NaN       NaN\n",
       "p_M        Trial2020            NaN       NaN   93.473557       NaN       NaN\n",
       "           Trial2021            NaN       NaN   98.230757       NaN       NaN\n",
       "v          Trial2020            NaN       NaN         NaN  0.052595       NaN\n",
       "           Trial2021            NaN       NaN         NaN  0.045678       NaN\n",
       "kap        Trial2020            NaN       NaN         NaN       NaN  0.978865\n",
       "           Trial2021            NaN       NaN         NaN       NaN  0.978865\n",
       "p_Am kap_X Trial2020    4710.938754  0.116645         NaN       NaN       NaN\n",
       "           Trial2021    4738.300065  0.129258         NaN       NaN       NaN\n",
       "p_Am p_M   Trial2020    4609.483630       NaN  101.466316       NaN       NaN\n",
       "           Trial2021    4166.603801       NaN   94.125119       NaN       NaN\n",
       "p_Am v     Trial2020    4709.774277       NaN         NaN  0.049050       NaN\n",
       "           Trial2021    4641.307304       NaN         NaN  0.043166       NaN\n",
       "p_Am kap   Trial2020    4605.652492       NaN         NaN       NaN  0.968534\n",
       "           Trial2021    4284.722013       NaN         NaN       NaN  0.978428\n",
       "kap_X p_M  Trial2020            NaN  0.112616   95.403145       NaN       NaN\n",
       "           Trial2021            NaN  0.124734   93.754918       NaN       NaN\n",
       "kap_X v    Trial2020            NaN  0.109836         NaN  0.049017       NaN\n",
       "           Trial2021            NaN  0.118127         NaN  0.046698       NaN\n",
       "kap_X kap  Trial2020            NaN  0.111580         NaN       NaN  0.978866\n",
       "           Trial2021            NaN  0.123174         NaN       NaN  0.978866\n",
       "p_M v      Trial2020            NaN       NaN   94.764191  0.051427       NaN\n",
       "           Trial2021            NaN       NaN   94.904866  0.044718       NaN\n",
       "p_M kap    Trial2020            NaN       NaN   97.280836       NaN  0.982337\n",
       "           Trial2021            NaN       NaN  101.425419       NaN  0.969370\n",
       "v kap      Trial2020            NaN       NaN         NaN  0.052045  0.978866\n",
       "           Trial2021            NaN       NaN         NaN  0.045210  0.978866"
      ]
     },
     "execution_count": 16,
     "metadata": {},
     "output_type": "execute_result"
    }
   ],
   "source": [
    "trial_pars_df"
   ]
  },
  {
   "cell_type": "markdown",
   "metadata": {},
   "source": [
    "### Errors and Parameters LaTeX table"
   ]
  },
  {
   "cell_type": "code",
   "execution_count": 17,
   "metadata": {},
   "outputs": [
    {
     "name": "stdout",
     "output_type": "stream",
     "text": [
      "$\\{\\dot{p}_{Am}\\}$ && 4694 & +8.8\\% & 4389 & +1.8\\% & \\unit{J/d \\cdot cm^2} && \\multirow{1}{*}{\\textbf{5.3 $\\pm$ 2.7\\%}} & \\multirow{1}{*}{16.3 $\\pm$ 6.8\\%} & \\multirow{1}{*}{\\textbf{10.8 $\\pm$ 3.2\\%}} \\\\\n",
      "[5pt]\n",
      "$\\kappa_X$ && 0.110 & -5.0\\% & 0.122 & +4.9\\% & \\unit{-} && \\multirow{1}{*}{7.4 $\\pm$ 2.2\\%} & \\multirow{1}{*}{\\textbf{15.4 $\\pm$ 5.5\\%}} & \\multirow{1}{*}{\\textbf{11.4 $\\pm$ 2.5\\%}} \\\\\n",
      "[5pt]\n",
      "$[\\dot{p}_M]$ && 93.5 & -11.8\\% & 98.2 & -7.4\\% & \\unit{J/d \\cdot cm^3} && \\multirow{1}{*}{\\textbf{4.5 $\\pm$ 2.2\\%}} & \\multirow{1}{*}{16.4 $\\pm$ 6.9\\%} & \\multirow{1}{*}{\\textbf{10.5 $\\pm$ 3.3\\%}} \\\\\n",
      "[5pt]\n",
      "$\\dot{v}$ && 0.053 & +6.4\\% & 0.046 & -7.6\\% & \\unit{cm/d} && \\multirow{1}{*}{\\textbf{7.4 $\\pm$ 2.1\\%}} & \\multirow{1}{*}{\\textbf{15.4 $\\pm$ 5.4\\%}} & \\multirow{1}{*}{\\textbf{11.4 $\\pm$ 2.5\\%}} \\\\\n",
      "[5pt]\n",
      "$\\kappa$ && 0.979 & +5.7\\% & 0.979 & +5.7\\% & \\unit{-} && \\multirow{1}{*}{\\textbf{5.7 $\\pm$ 2.1\\%}} & \\multirow{1}{*}{16.3 $\\pm$ 6.8\\%} & \\multirow{1}{*}{\\textbf{11.0 $\\pm$ 3.2\\%}} \\\\\n",
      "[5pt]\n",
      "$\\{\\dot{p}_{Am}\\}$ && 4711 & +9.2\\% & 4738 & +9.9\\% & \\unit{J/d \\cdot cm^2} && \\multirow{2}{*}{\\textbf{3.6 $\\pm$ 1.9\\%}} & \\multirow{2}{*}{\\textbf{15.7 $\\pm$ 5.6\\%}} & \\multirow{2}{*}{\\textbf{9.6 $\\pm$ 2.8\\%}} \\\\\n",
      "$\\kappa_X$ && 0.117 & +0.5\\% & 0.129 & +11.3\\% & \\unit{-} &&  & &  \\\\\n",
      "[5pt]\n",
      "$\\{\\dot{p}_{Am}\\}$ && 4609 & +6.9\\% & 4167 & -3.4\\% & \\unit{J/d \\cdot cm^2} && \\multirow{2}{*}{\\textbf{4.4 $\\pm$ 2.3\\%}} & \\multirow{2}{*}{16.2 $\\pm$ 6.6\\%} & \\multirow{2}{*}{\\textbf{10.3 $\\pm$ 3.1\\%}} \\\\\n",
      "$[\\dot{p}_M]$ && 101.5 & -4.3\\% & 94.1 & -11.2\\% & \\unit{J/d \\cdot cm^3} &&  & &  \\\\\n",
      "[5pt]\n",
      "$\\{\\dot{p}_{Am}\\}$ && 4710 & +9.2\\% & 4641 & +7.6\\% & \\unit{J/d \\cdot cm^2} && \\multirow{2}{*}{\\textbf{3.9 $\\pm$ 2.0\\%}} & \\multirow{2}{*}{\\textbf{15.8 $\\pm$ 5.8\\%}} & \\multirow{2}{*}{\\textbf{9.8 $\\pm$ 2.8\\%}} \\\\\n",
      "$\\dot{v}$ && 0.049 & -0.8\\% & 0.043 & -12.7\\% & \\unit{cm/d} &&  & &  \\\\\n",
      "[5pt]\n",
      "$\\{\\dot{p}_{Am}\\}$ && 4606 & +6.8\\% & 4285 & -0.7\\% & \\unit{J/d \\cdot cm^2} && \\multirow{2}{*}{\\textbf{4.7 $\\pm$ 2.6\\%}} & \\multirow{2}{*}{16.3 $\\pm$ 6.7\\%} & \\multirow{2}{*}{\\textbf{10.5 $\\pm$ 3.2\\%}} \\\\\n",
      "$\\kappa$ && 0.969 & +4.6\\% & 0.978 & +5.6\\% & \\unit{-} &&  & &  \\\\\n",
      "[5pt]\n",
      "$\\kappa_X$ && 0.113 & -3.0\\% & 0.125 & +7.4\\% & \\unit{-} && \\multirow{2}{*}{\\textbf{4.1 $\\pm$ 1.9\\%}} & \\multirow{2}{*}{\\textbf{15.6 $\\pm$ 5.5\\%}} & \\multirow{2}{*}{\\textbf{9.9 $\\pm$ 2.7\\%}} \\\\\n",
      "$[\\dot{p}_M]$ && 95.4 & -10.0\\% & 93.8 & -11.6\\% & \\unit{J/d \\cdot cm^3} &&  & &  \\\\\n",
      "[5pt]\n",
      "$\\kappa_X$ && 0.110 & -5.4\\% & 0.118 & +1.8\\% & \\unit{-} && \\multirow{2}{*}{\\textbf{7.3 $\\pm$ 2.2\\%}} & \\multirow{2}{*}{\\textbf{15.4 $\\pm$ 5.4\\%}} & \\multirow{2}{*}{\\textbf{11.3 $\\pm$ 2.5\\%}} \\\\\n",
      "$\\dot{v}$ && 0.049 & -0.8\\% & 0.047 & -5.5\\% & \\unit{cm/d} &&  & &  \\\\\n",
      "[5pt]\n",
      "$\\kappa_X$ && 0.112 & -3.9\\% & 0.123 & +6.1\\% & \\unit{-} && \\multirow{2}{*}{\\textbf{5.7 $\\pm$ 2.1\\%}} & \\multirow{2}{*}{\\textbf{15.5 $\\pm$ 5.5\\%}} & \\multirow{2}{*}{\\textbf{10.6 $\\pm$ 2.6\\%}} \\\\\n",
      "$\\kappa$ && 0.979 & +5.7\\% & 0.979 & +5.7\\% & \\unit{-} &&  & &  \\\\\n",
      "[5pt]\n",
      "$[\\dot{p}_M]$ && 94.8 & -10.6\\% & 94.9 & -10.5\\% & \\unit{J/d \\cdot cm^3} && \\multirow{2}{*}{\\textbf{4.1 $\\pm$ 2.0\\%}} & \\multirow{2}{*}{\\textbf{15.7 $\\pm$ 5.7\\%}} & \\multirow{2}{*}{\\textbf{9.9 $\\pm$ 2.8\\%}} \\\\\n",
      "$\\dot{v}$ && 0.051 & +4.1\\% & 0.045 & -9.5\\% & \\unit{cm/d} &&  & &  \\\\\n",
      "[5pt]\n",
      "$[\\dot{p}_M]$ && 97.3 & -8.3\\% & 101.4 & -4.3\\% & \\unit{J/d \\cdot cm^3} && \\multirow{2}{*}{\\textbf{4.0 $\\pm$ 2.2\\%}} & \\multirow{2}{*}{16.5 $\\pm$ 7.0\\%} & \\multirow{2}{*}{\\textbf{10.3 $\\pm$ 3.3\\%}} \\\\\n",
      "$\\kappa$ && 0.982 & +6.0\\% & 0.969 & +4.6\\% & \\unit{-} &&  & &  \\\\\n",
      "[5pt]\n",
      "$\\dot{v}$ && 0.052 & +5.3\\% & 0.045 & -8.5\\% & \\unit{cm/d} && \\multirow{2}{*}{\\textbf{5.7 $\\pm$ 2.1\\%}} & \\multirow{2}{*}{\\textbf{15.5 $\\pm$ 5.6\\%}} & \\multirow{2}{*}{\\textbf{10.6 $\\pm$ 2.6\\%}} \\\\\n",
      "$\\kappa$ && 0.979 & +5.7\\% & 0.979 & +5.7\\% & \\unit{-} &&  & &  \\\\\n",
      "[5pt]\n"
     ]
    }
   ],
   "source": [
    "for estim in trial_tier_estim_list:\n",
    "    estim_pars = estim.split()\n",
    "    for i, p in enumerate(estim_pars):\n",
    "        # Parameters\n",
    "        value_2020 = trial_pars_df.loc[(estim, 'Trial2020'), p]\n",
    "        value_2021 = trial_pars_df.loc[(estim, 'Trial2021'), p]\n",
    "\n",
    "        # Deviations\n",
    "        breed_tier_par_value = breed_pars_df[p]\n",
    "        dev_2020 = f\"{compute_deviation(value_2020, breed_tier_par_value)*100:+.1f}\\%\" \n",
    "        dev_2021 = f\"{compute_deviation(value_2021, breed_tier_par_value)*100:+.1f}\\%\" \n",
    "        \n",
    "        # Prediction errors\n",
    "        if i == 0:\n",
    "            pred_errors_string = ''\n",
    "            for data_type, data_type_name in data_type_labels.items():\n",
    "                mean_error = trial_ind_data_errors_df.loc[estim].mean(numeric_only=True)[data_type]\n",
    "                std_error = trial_ind_data_errors_df.loc[estim].std(numeric_only=True)[data_type]\n",
    "                pred_errors_string += f\"\\multirow{{{len(estim_pars)}}}{{*}}{{\"\n",
    "                pred_errors_string += set_in_bold_if_lower(\n",
    "                    text=f\"{mean_error*100:.1f} $\\pm$ {std_error*100:.1f}\\%\",\n",
    "                    val=mean_error,\n",
    "                    ref = breed_tier.tier_errors.loc['male', data_type]\n",
    "                )\n",
    "                pred_errors_string += '} & '\n",
    "            pred_errors_string = pred_errors_string[:-3]\n",
    "        else:\n",
    "            pred_errors_string = ' & & '\n",
    "        \n",
    "        # Print table row\n",
    "        print(f\"${tex_par_symbols[p]}$ && \"\n",
    "              f\"{value_2020:.{n_digits[p]}f} & {dev_2020} & \"\n",
    "              f\"{value_2021:.{n_digits[p]}f} & {dev_2021} & \"\n",
    "              f\"\\\\unit{{{tex_par_units[p]}}} && \"\n",
    "              f\"{pred_errors_string} \\\\\\\\\")\n",
    "    print(\"[5pt]\")"
   ]
  },
  {
   "cell_type": "markdown",
   "metadata": {},
   "source": [
    "### Estimation times"
   ]
  },
  {
   "cell_type": "code",
   "execution_count": 40,
   "metadata": {},
   "outputs": [
    {
     "data": {
      "text/html": [
       "<div>\n",
       "<style scoped>\n",
       "    .dataframe tbody tr th:only-of-type {\n",
       "        vertical-align: middle;\n",
       "    }\n",
       "\n",
       "    .dataframe tbody tr th {\n",
       "        vertical-align: top;\n",
       "    }\n",
       "\n",
       "    .dataframe thead th {\n",
       "        text-align: right;\n",
       "    }\n",
       "</style>\n",
       "<table border=\"1\" class=\"dataframe\">\n",
       "  <thead>\n",
       "    <tr style=\"text-align: right;\">\n",
       "      <th></th>\n",
       "      <th>estim_time</th>\n",
       "      <th>tJX</th>\n",
       "      <th>tW</th>\n",
       "    </tr>\n",
       "    <tr>\n",
       "      <th>tier_sample</th>\n",
       "      <th></th>\n",
       "      <th></th>\n",
       "      <th></th>\n",
       "    </tr>\n",
       "  </thead>\n",
       "  <tbody>\n",
       "    <tr>\n",
       "      <th>Trial2020</th>\n",
       "      <td>24.374123</td>\n",
       "      <td>0.160891</td>\n",
       "      <td>0.033145</td>\n",
       "    </tr>\n",
       "    <tr>\n",
       "      <th>Trial2021</th>\n",
       "      <td>7.058878</td>\n",
       "      <td>0.153951</td>\n",
       "      <td>0.037854</td>\n",
       "    </tr>\n",
       "  </tbody>\n",
       "</table>\n",
       "</div>"
      ],
      "text/plain": [
       "             estim_time       tJX        tW\n",
       "tier_sample                                \n",
       "Trial2020     24.374123  0.160891  0.033145\n",
       "Trial2021      7.058878  0.153951  0.037854"
      ]
     },
     "execution_count": 40,
     "metadata": {},
     "output_type": "execute_result"
    }
   ],
   "source": [
    "trial_tier.tier_errors"
   ]
  },
  {
   "cell_type": "markdown",
   "metadata": {},
   "source": [
    "## Individual Tier"
   ]
  },
  {
   "cell_type": "markdown",
   "metadata": {},
   "source": [
    "### Load results of all parameter combinations"
   ]
  },
  {
   "cell_type": "code",
   "execution_count": 18,
   "metadata": {},
   "outputs": [],
   "source": [
    "individual_tier = multitier.tiers['individual']\n",
    "\n",
    "individual_tier_estim_list = os.listdir(f\"{multitier.output_folder}/individual\")\n",
    "# Sort individual_tier_estim_list according to par_order\n",
    "individual_tier_estim_list.sort(key=estim_sort_key)\n",
    "\n",
    "all_individual_pars_df_dict = {}\n",
    "all_individual_ind_data_errors_df_dict = {}\n",
    "\n",
    "for estim in individual_tier_estim_list:\n",
    "    tier_pars = estim.split()\n",
    "    multitier.set_tier_parameters('individual', tier_pars)\n",
    "    individual_tier.output_folder = f\"{multitier.output_folder}/individual/{' '.join(tier_pars)}\"\n",
    "    individual_tier.load_results()\n",
    "    all_individual_pars_df_dict[estim] = individual_tier.pars_df.copy()\n",
    "    all_individual_ind_data_errors_df_dict[estim] = individual_tier.ind_data_errors.copy()\n",
    "individual_pars_df = pd.concat(all_individual_pars_df_dict, names=['estim'])\n",
    "individual_ind_data_errors_df = pd.concat(all_individual_ind_data_errors_df_dict, names=['estim'])\n",
    "individual_ind_data_errors_df['avg'] = np.mean(individual_ind_data_errors_df[['tJX', 'tW']], axis=1)\n"
   ]
  },
  {
   "cell_type": "code",
   "execution_count": 19,
   "metadata": {},
   "outputs": [
    {
     "data": {
      "text/html": [
       "<div>\n",
       "<style scoped>\n",
       "    .dataframe tbody tr th:only-of-type {\n",
       "        vertical-align: middle;\n",
       "    }\n",
       "\n",
       "    .dataframe tbody tr th {\n",
       "        vertical-align: top;\n",
       "    }\n",
       "\n",
       "    .dataframe thead th {\n",
       "        text-align: right;\n",
       "    }\n",
       "</style>\n",
       "<table border=\"1\" class=\"dataframe\">\n",
       "  <thead>\n",
       "    <tr style=\"text-align: right;\">\n",
       "      <th></th>\n",
       "      <th></th>\n",
       "      <th>tier_sample</th>\n",
       "      <th>tJX</th>\n",
       "      <th>tW</th>\n",
       "      <th>avg</th>\n",
       "    </tr>\n",
       "    <tr>\n",
       "      <th>estim</th>\n",
       "      <th>ind_id</th>\n",
       "      <th></th>\n",
       "      <th></th>\n",
       "      <th></th>\n",
       "      <th></th>\n",
       "    </tr>\n",
       "  </thead>\n",
       "  <tbody>\n",
       "    <tr>\n",
       "      <th rowspan=\"5\" valign=\"top\">p_Am</th>\n",
       "      <th>PT023396456</th>\n",
       "      <td>PT023396456</td>\n",
       "      <td>0.130496</td>\n",
       "      <td>0.014469</td>\n",
       "      <td>0.072483</td>\n",
       "    </tr>\n",
       "    <tr>\n",
       "      <th>PT023480600</th>\n",
       "      <td>PT023480600</td>\n",
       "      <td>0.153844</td>\n",
       "      <td>0.066784</td>\n",
       "      <td>0.110314</td>\n",
       "    </tr>\n",
       "    <tr>\n",
       "      <th>PT023802667</th>\n",
       "      <td>PT023802667</td>\n",
       "      <td>0.157945</td>\n",
       "      <td>0.005918</td>\n",
       "      <td>0.081932</td>\n",
       "    </tr>\n",
       "    <tr>\n",
       "      <th>PT023805915</th>\n",
       "      <td>PT023805915</td>\n",
       "      <td>0.140844</td>\n",
       "      <td>0.019359</td>\n",
       "      <td>0.080102</td>\n",
       "    </tr>\n",
       "    <tr>\n",
       "      <th>PT023974753</th>\n",
       "      <td>PT023974753</td>\n",
       "      <td>0.154050</td>\n",
       "      <td>0.054268</td>\n",
       "      <td>0.104159</td>\n",
       "    </tr>\n",
       "    <tr>\n",
       "      <th>...</th>\n",
       "      <th>...</th>\n",
       "      <td>...</td>\n",
       "      <td>...</td>\n",
       "      <td>...</td>\n",
       "      <td>...</td>\n",
       "    </tr>\n",
       "    <tr>\n",
       "      <th rowspan=\"5\" valign=\"top\">v kap</th>\n",
       "      <th>PT824914674</th>\n",
       "      <td>PT824914674</td>\n",
       "      <td>0.099582</td>\n",
       "      <td>0.060094</td>\n",
       "      <td>0.079838</td>\n",
       "    </tr>\n",
       "    <tr>\n",
       "      <th>PT923583699</th>\n",
       "      <td>PT923583699</td>\n",
       "      <td>0.152718</td>\n",
       "      <td>0.063486</td>\n",
       "      <td>0.108102</td>\n",
       "    </tr>\n",
       "    <tr>\n",
       "      <th>PT923712082</th>\n",
       "      <td>PT923712082</td>\n",
       "      <td>0.134688</td>\n",
       "      <td>0.039455</td>\n",
       "      <td>0.087072</td>\n",
       "    </tr>\n",
       "    <tr>\n",
       "      <th>PT923966027</th>\n",
       "      <td>PT923966027</td>\n",
       "      <td>0.130647</td>\n",
       "      <td>0.015370</td>\n",
       "      <td>0.073008</td>\n",
       "    </tr>\n",
       "    <tr>\n",
       "      <th>PT924854279</th>\n",
       "      <td>PT924854279</td>\n",
       "      <td>0.113829</td>\n",
       "      <td>0.095681</td>\n",
       "      <td>0.104755</td>\n",
       "    </tr>\n",
       "  </tbody>\n",
       "</table>\n",
       "<p>780 rows × 4 columns</p>\n",
       "</div>"
      ],
      "text/plain": [
       "                   tier_sample       tJX        tW       avg\n",
       "estim ind_id                                                \n",
       "p_Am  PT023396456  PT023396456  0.130496  0.014469  0.072483\n",
       "      PT023480600  PT023480600  0.153844  0.066784  0.110314\n",
       "      PT023802667  PT023802667  0.157945  0.005918  0.081932\n",
       "      PT023805915  PT023805915  0.140844  0.019359  0.080102\n",
       "      PT023974753  PT023974753  0.154050  0.054268  0.104159\n",
       "...                        ...       ...       ...       ...\n",
       "v kap PT824914674  PT824914674  0.099582  0.060094  0.079838\n",
       "      PT923583699  PT923583699  0.152718  0.063486  0.108102\n",
       "      PT923712082  PT923712082  0.134688  0.039455  0.087072\n",
       "      PT923966027  PT923966027  0.130647  0.015370  0.073008\n",
       "      PT924854279  PT924854279  0.113829  0.095681  0.104755\n",
       "\n",
       "[780 rows x 4 columns]"
      ]
     },
     "execution_count": 19,
     "metadata": {},
     "output_type": "execute_result"
    }
   ],
   "source": [
    "individual_ind_data_errors_df"
   ]
  },
  {
   "cell_type": "code",
   "execution_count": 20,
   "metadata": {},
   "outputs": [
    {
     "data": {
      "text/plain": [
       "0.10595314280146832"
      ]
     },
     "execution_count": 20,
     "metadata": {},
     "output_type": "execute_result"
    }
   ],
   "source": [
    "trial_ind_data_errors_df.loc[estim, data_type].mean()"
   ]
  },
  {
   "cell_type": "markdown",
   "metadata": {},
   "source": [
    "### Compute parameter deviations with respect to previous trial"
   ]
  },
  {
   "cell_type": "code",
   "execution_count": 21,
   "metadata": {},
   "outputs": [
    {
     "data": {
      "text/html": [
       "<div>\n",
       "<style scoped>\n",
       "    .dataframe tbody tr th:only-of-type {\n",
       "        vertical-align: middle;\n",
       "    }\n",
       "\n",
       "    .dataframe tbody tr th {\n",
       "        vertical-align: top;\n",
       "    }\n",
       "\n",
       "    .dataframe thead th {\n",
       "        text-align: right;\n",
       "    }\n",
       "</style>\n",
       "<table border=\"1\" class=\"dataframe\">\n",
       "  <thead>\n",
       "    <tr style=\"text-align: right;\">\n",
       "      <th></th>\n",
       "      <th></th>\n",
       "      <th>p_Am</th>\n",
       "      <th>kap_X</th>\n",
       "      <th>p_M</th>\n",
       "      <th>v</th>\n",
       "      <th>kap</th>\n",
       "    </tr>\n",
       "    <tr>\n",
       "      <th>estim</th>\n",
       "      <th>tier_sample</th>\n",
       "      <th></th>\n",
       "      <th></th>\n",
       "      <th></th>\n",
       "      <th></th>\n",
       "      <th></th>\n",
       "    </tr>\n",
       "  </thead>\n",
       "  <tbody>\n",
       "    <tr>\n",
       "      <th rowspan=\"5\" valign=\"top\">p_Am</th>\n",
       "      <th>PT023805915</th>\n",
       "      <td>0.078816</td>\n",
       "      <td>NaN</td>\n",
       "      <td>NaN</td>\n",
       "      <td>NaN</td>\n",
       "      <td>NaN</td>\n",
       "    </tr>\n",
       "    <tr>\n",
       "      <th>PT623583704</th>\n",
       "      <td>0.023525</td>\n",
       "      <td>NaN</td>\n",
       "      <td>NaN</td>\n",
       "      <td>NaN</td>\n",
       "      <td>NaN</td>\n",
       "    </tr>\n",
       "    <tr>\n",
       "      <th>PT923966027</th>\n",
       "      <td>-0.060914</td>\n",
       "      <td>NaN</td>\n",
       "      <td>NaN</td>\n",
       "      <td>NaN</td>\n",
       "      <td>NaN</td>\n",
       "    </tr>\n",
       "    <tr>\n",
       "      <th>PT423620929</th>\n",
       "      <td>0.101563</td>\n",
       "      <td>NaN</td>\n",
       "      <td>NaN</td>\n",
       "      <td>NaN</td>\n",
       "      <td>NaN</td>\n",
       "    </tr>\n",
       "    <tr>\n",
       "      <th>PT723805945</th>\n",
       "      <td>-0.030856</td>\n",
       "      <td>NaN</td>\n",
       "      <td>NaN</td>\n",
       "      <td>NaN</td>\n",
       "      <td>NaN</td>\n",
       "    </tr>\n",
       "    <tr>\n",
       "      <th>...</th>\n",
       "      <th>...</th>\n",
       "      <td>...</td>\n",
       "      <td>...</td>\n",
       "      <td>...</td>\n",
       "      <td>...</td>\n",
       "      <td>...</td>\n",
       "    </tr>\n",
       "    <tr>\n",
       "      <th rowspan=\"5\" valign=\"top\">v kap</th>\n",
       "      <th>PT324096615</th>\n",
       "      <td>NaN</td>\n",
       "      <td>NaN</td>\n",
       "      <td>NaN</td>\n",
       "      <td>-0.025584</td>\n",
       "      <td>2.301404e-09</td>\n",
       "    </tr>\n",
       "    <tr>\n",
       "      <th>PT524914685</th>\n",
       "      <td>NaN</td>\n",
       "      <td>NaN</td>\n",
       "      <td>NaN</td>\n",
       "      <td>-0.110342</td>\n",
       "      <td>2.332570e-09</td>\n",
       "    </tr>\n",
       "    <tr>\n",
       "      <th>PT623806020</th>\n",
       "      <td>NaN</td>\n",
       "      <td>NaN</td>\n",
       "      <td>NaN</td>\n",
       "      <td>0.054643</td>\n",
       "      <td>2.375168e-09</td>\n",
       "    </tr>\n",
       "    <tr>\n",
       "      <th>PT124148445</th>\n",
       "      <td>NaN</td>\n",
       "      <td>NaN</td>\n",
       "      <td>NaN</td>\n",
       "      <td>-0.087904</td>\n",
       "      <td>2.370439e-09</td>\n",
       "    </tr>\n",
       "    <tr>\n",
       "      <th>PT823583722</th>\n",
       "      <td>NaN</td>\n",
       "      <td>NaN</td>\n",
       "      <td>NaN</td>\n",
       "      <td>0.194193</td>\n",
       "      <td>2.467554e-09</td>\n",
       "    </tr>\n",
       "  </tbody>\n",
       "</table>\n",
       "<p>780 rows × 5 columns</p>\n",
       "</div>"
      ],
      "text/plain": [
       "                       p_Am  kap_X  p_M         v           kap\n",
       "estim tier_sample                                              \n",
       "p_Am  PT023805915  0.078816    NaN  NaN       NaN           NaN\n",
       "      PT623583704  0.023525    NaN  NaN       NaN           NaN\n",
       "      PT923966027 -0.060914    NaN  NaN       NaN           NaN\n",
       "      PT423620929  0.101563    NaN  NaN       NaN           NaN\n",
       "      PT723805945 -0.030856    NaN  NaN       NaN           NaN\n",
       "...                     ...    ...  ...       ...           ...\n",
       "v kap PT324096615       NaN    NaN  NaN -0.025584  2.301404e-09\n",
       "      PT524914685       NaN    NaN  NaN -0.110342  2.332570e-09\n",
       "      PT623806020       NaN    NaN  NaN  0.054643  2.375168e-09\n",
       "      PT124148445       NaN    NaN  NaN -0.087904  2.370439e-09\n",
       "      PT823583722       NaN    NaN  NaN  0.194193  2.467554e-09\n",
       "\n",
       "[780 rows x 5 columns]"
      ]
     },
     "execution_count": 21,
     "metadata": {},
     "output_type": "execute_result"
    }
   ],
   "source": [
    "ind_tier_par_devs = individual_pars_df.copy()\n",
    "for (estim, ind) in ind_tier_par_devs.index:\n",
    "    estim_pars = estim.split()\n",
    "    for par in estim_pars:\n",
    "        trial_of_ind = multitier.ind_tiers.loc[ind]['trial']\n",
    "        trial_value = trial_pars_df.loc[(estim, trial_of_ind), par]\n",
    "        ind_value = ind_tier_par_devs.loc[(estim, ind), par]\n",
    "        ind_tier_par_devs.loc[(estim, ind), par] = compute_deviation(ind_value, trial_value)\n",
    "ind_tier_par_devs"
   ]
  },
  {
   "cell_type": "markdown",
   "metadata": {},
   "source": [
    "### Errors and Parameters LaTeX table"
   ]
  },
  {
   "cell_type": "code",
   "execution_count": 22,
   "metadata": {},
   "outputs": [
    {
     "name": "stdout",
     "output_type": "stream",
     "text": [
      "$\\{\\dot{p}_{Am}\\}$ && 4580 $\\pm$ 434 & 0.09 & \\unit{J/d \\cdot cm^2} && +1.0 $\\pm$ \\phantom{1}8.8\\% && \\multirow{1}{*}{\\textbf{5.1 $\\pm$ 2.9\\%}} & \\multirow{1}{*}{\\textbf{14.5 $\\pm$ 3.4\\%}} & \\multirow{1}{*}{\\textbf{9.8 $\\pm$ 2.8\\%}} \\\\\n",
      "[5pt]\n",
      "$\\kappa_X$ && 0.117 $\\pm$ 0.013 & 0.11 & \\unit{-} && +0.5 $\\pm$ \\phantom{1}9.4\\% && \\multirow{1}{*}{7.4 $\\pm$ 2.2\\%} & \\multirow{1}{*}{\\textbf{13.2 $\\pm$ 2.4\\%}} & \\multirow{1}{*}{\\textbf{10.3 $\\pm$ 1.0\\%}} \\\\\n",
      "[5pt]\n",
      "$[\\dot{p}_M]$ && 93.3 $\\pm$ 10.5 & 0.11 & \\unit{J/d \\cdot cm^3} && -2.8 $\\pm$ 10.4\\% && \\multirow{1}{*}{\\textbf{3.6 $\\pm$ 1.8\\%}} & \\multirow{1}{*}{\\textbf{15.8 $\\pm$ 5.6\\%}} & \\multirow{1}{*}{\\textbf{9.7 $\\pm$ 3.4\\%}} \\\\\n",
      "[5pt]\n",
      "$\\dot{v}$ && 0.049 $\\pm$ 0.007 & 0.15 & \\unit{cm/d} && +0.3 $\\pm$ 11.9\\% && \\multirow{1}{*}{7.5 $\\pm$ 2.5\\%} & \\multirow{1}{*}{\\textbf{13.3 $\\pm$ 2.4\\%}} & \\multirow{1}{*}{\\textbf{10.4 $\\pm$ 1.2\\%}} \\\\\n",
      "[5pt]\n",
      "$\\kappa$ && 0.979 $\\pm$ 0.000 & 0.00 & \\unit{-} && +0.0 $\\pm$ \\phantom{1}0.0\\% && \\multirow{1}{*}{\\textbf{5.7 $\\pm$ 2.1\\%}} & \\multirow{1}{*}{16.3 $\\pm$ 6.8\\%} & \\multirow{1}{*}{\\textbf{11.0 $\\pm$ 3.2\\%}} \\\\\n",
      "[5pt]\n",
      "$\\{\\dot{p}_{Am}\\}$ && 4857 $\\pm$ 245 & 0.05 & \\unit{J/d \\cdot cm^2} && +2.8 $\\pm$ \\phantom{1}5.1\\% && \\multirow{2}{*}{\\textbf{2.1 $\\pm$ 0.7\\%}} & \\multirow{2}{*}{\\textbf{13.5 $\\pm$ 2.5\\%}} & \\multirow{2}{*}{\\textbf{7.8 $\\pm$ 1.4\\%}} \\\\\n",
      "$\\kappa_X$ && 0.126 $\\pm$ 0.012 & 0.09 & \\unit{-} && +2.5 $\\pm$ \\phantom{1}7.1\\% &&  & &  \\\\\n",
      "[5pt]\n",
      "$\\{\\dot{p}_{Am}\\}$ && 4317 $\\pm$ 531 & 0.12 & \\unit{J/d \\cdot cm^2} && -1.5 $\\pm$ 10.0\\% && \\multirow{2}{*}{\\textbf{3.7 $\\pm$ 2.1\\%}} & \\multirow{2}{*}{\\textbf{14.1 $\\pm$ 3.0\\%}} & \\multirow{2}{*}{\\textbf{8.9 $\\pm$ 2.2\\%}} \\\\\n",
      "$[\\dot{p}_M]$ && 92.8 $\\pm$ 7.8 & 0.08 & \\unit{J/d \\cdot cm^3} && -5.1 $\\pm$ \\phantom{1}5.0\\% &&  & &  \\\\\n",
      "[5pt]\n",
      "$\\{\\dot{p}_{Am}\\}$ && 4808 $\\pm$ 288 & 0.06 & \\unit{J/d \\cdot cm^2} && +2.9 $\\pm$ \\phantom{1}6.2\\% && \\multirow{2}{*}{\\textbf{2.5 $\\pm$ 0.8\\%}} & \\multirow{2}{*}{\\textbf{13.5 $\\pm$ 2.5\\%}} & \\multirow{2}{*}{\\textbf{8.0 $\\pm$ 1.4\\%}} \\\\\n",
      "$\\dot{v}$ && 0.045 $\\pm$ 0.005 & 0.12 & \\unit{cm/d} && -3.3 $\\pm$ \\phantom{1}7.9\\% &&  & &  \\\\\n",
      "[5pt]\n",
      "$\\{\\dot{p}_{Am}\\}$ && 4542 $\\pm$ 340 & 0.07 & \\unit{J/d \\cdot cm^2} && +2.4 $\\pm$ \\phantom{1}7.2\\% && \\multirow{2}{*}{\\textbf{3.8 $\\pm$ 2.0\\%}} & \\multirow{2}{*}{\\textbf{15.5 $\\pm$ 6.7\\%}} & \\multirow{2}{*}{\\textbf{9.7 $\\pm$ 3.4\\%}} \\\\\n",
      "$\\kappa$ && 0.975 $\\pm$ 0.012 & 0.01 & \\unit{-} && +0.1 $\\pm$ \\phantom{1}1.0\\% &&  & &  \\\\\n",
      "[5pt]\n",
      "$\\kappa_X$ && 0.121 $\\pm$ 0.013 & 0.10 & \\unit{-} && +1.4 $\\pm$ \\phantom{1}8.7\\% && \\multirow{2}{*}{\\textbf{2.6 $\\pm$ 0.9\\%}} & \\multirow{2}{*}{\\textbf{13.5 $\\pm$ 2.5\\%}} & \\multirow{2}{*}{\\textbf{8.0 $\\pm$ 1.3\\%}} \\\\\n",
      "$[\\dot{p}_M]$ && 90.5 $\\pm$ 5.3 & 0.06 & \\unit{J/d \\cdot cm^3} && -4.3 $\\pm$ \\phantom{1}5.5\\% &&  & &  \\\\\n",
      "[5pt]\n",
      "$\\kappa_X$ && 0.113 $\\pm$ 0.010 & 0.09 & \\unit{-} && -1.4 $\\pm$ \\phantom{1}7.6\\% && \\multirow{2}{*}{\\textbf{7.2 $\\pm$ 2.2\\%}} & \\multirow{2}{*}{\\textbf{13.2 $\\pm$ 2.4\\%}} & \\multirow{2}{*}{\\textbf{10.2 $\\pm$ 1.1\\%}} \\\\\n",
      "$\\dot{v}$ && 0.046 $\\pm$ 0.002 & 0.04 & \\unit{cm/d} && -2.9 $\\pm$ \\phantom{1}2.7\\% &&  & &  \\\\\n",
      "[5pt]\n",
      "$\\kappa_X$ && 0.118 $\\pm$ 0.013 & 0.11 & \\unit{-} && +0.6 $\\pm$ \\phantom{1}9.4\\% && \\multirow{2}{*}{\\textbf{5.7 $\\pm$ 2.1\\%}} & \\multirow{2}{*}{\\textbf{13.3 $\\pm$ 2.5\\%}} & \\multirow{2}{*}{\\textbf{9.5 $\\pm$ 1.1\\%}} \\\\\n",
      "$\\kappa$ && 0.979 $\\pm$ 0.000 & 0.00 & \\unit{-} && +0.0 $\\pm$ \\phantom{1}0.0\\% &&  & &  \\\\\n",
      "[5pt]\n",
      "$[\\dot{p}_M]$ && 90.7 $\\pm$ 6.0 & 0.07 & \\unit{J/d \\cdot cm^3} && -4.3 $\\pm$ \\phantom{1}6.3\\% && \\multirow{2}{*}{\\textbf{2.7 $\\pm$ 0.8\\%}} & \\multirow{2}{*}{\\textbf{13.5 $\\pm$ 2.5\\%}} & \\multirow{2}{*}{\\textbf{8.1 $\\pm$ 1.3\\%}} \\\\\n",
      "$\\dot{v}$ && 0.047 $\\pm$ 0.007 & 0.14 & \\unit{cm/d} && -1.1 $\\pm$ 11.0\\% &&  & &  \\\\\n",
      "[5pt]\n",
      "$[\\dot{p}_M]$ && 98.4 $\\pm$ 5.9 & 0.06 & \\unit{J/d \\cdot cm^3} && -1.0 $\\pm$ \\phantom{1}5.8\\% && \\multirow{2}{*}{\\textbf{3.8 $\\pm$ 2.0\\%}} & \\multirow{2}{*}{\\textbf{16.0 $\\pm$ 5.5\\%}} & \\multirow{2}{*}{\\textbf{9.9 $\\pm$ 3.4\\%}} \\\\\n",
      "$\\kappa$ && 0.970 $\\pm$ 0.032 & 0.03 & \\unit{-} && -0.5 $\\pm$ \\phantom{1}3.1\\% &&  & &  \\\\\n",
      "[5pt]\n",
      "$\\dot{v}$ && 0.049 $\\pm$ 0.007 & 0.15 & \\unit{cm/d} && +0.2 $\\pm$ 12.1\\% && \\multirow{2}{*}{5.7 $\\pm$ 2.3\\%} & \\multirow{2}{*}{\\textbf{13.4 $\\pm$ 2.5\\%}} & \\multirow{2}{*}{\\textbf{9.6 $\\pm$ 1.2\\%}} \\\\\n",
      "$\\kappa$ && 0.979 $\\pm$ 0.000 & 0.00 & \\unit{-} && +0.0 $\\pm$ \\phantom{1}0.0\\% &&  & &  \\\\\n",
      "[5pt]\n"
     ]
    }
   ],
   "source": [
    "for estim in trial_tier_estim_list:\n",
    "    estim_pars = estim.split()\n",
    "    for i, p in enumerate(estim_pars):\n",
    "        # Parameters\n",
    "        ind_pars = individual_pars_df.loc[estim, p]\n",
    "        mean = f\"{ind_pars.mean():.{n_digits[p]}f}\"\n",
    "        std = f\"{ind_pars.std():.{n_digits[p]}f}\"\n",
    "        cv = f\"{ind_pars.std()/ind_pars.mean():.2f}\"\n",
    "\n",
    "        # Deviations\n",
    "        ind_par_devs = ind_tier_par_devs.loc[estim, p]\n",
    "        padding = r'\\phantom{1}'\n",
    "        dev_mean = ind_par_devs.mean()*100\n",
    "        dev_std = ind_par_devs.std()*100\n",
    "        dev_string = f\"{dev_mean:+.1f} $\\pm$ {padding if round(dev_std) < 10 else ''}{dev_std:.1f}\\%\"\n",
    "\n",
    "        # Prediction errors\n",
    "        if i == 0:\n",
    "            pred_errors_string = ''\n",
    "            for data_type, data_type_name in data_type_labels.items():\n",
    "                mean_error = individual_ind_data_errors_df.loc[estim].mean(numeric_only=True)[data_type]\n",
    "                std_error = individual_ind_data_errors_df.loc[estim].std(numeric_only=True)[data_type]\n",
    "                pred_errors_string += f\"\\multirow{{{len(estim_pars)}}}{{*}}{{\"\n",
    "                pred_errors_string += set_in_bold_if_lower(\n",
    "                    text=f\"{mean_error*100:.1f} $\\pm$ {std_error*100:.1f}\\%\",\n",
    "                    val=mean_error,\n",
    "                    ref = trial_ind_data_errors_df.loc[estim, data_type].mean()\n",
    "                )\n",
    "                pred_errors_string += '} & '\n",
    "            pred_errors_string = pred_errors_string[:-3]\n",
    "        else:\n",
    "            pred_errors_string = ' & & '\n",
    "\n",
    "        print(f\"${tex_par_symbols[p]}$ && \"\n",
    "              f\"{mean} $\\pm$ {std} & {cv} & \"\n",
    "              f\"\\\\unit{{{tex_par_units[p]}}} && \"\n",
    "              f\"{dev_string} && \"\n",
    "              f\"{pred_errors_string} \\\\\\\\\")\n",
    "    print(\"[5pt]\")"
   ]
  },
  {
   "cell_type": "markdown",
   "metadata": {},
   "source": [
    "### Estimation times"
   ]
  },
  {
   "cell_type": "markdown",
   "metadata": {},
   "source": [
    "# Figures"
   ]
  },
  {
   "cell_type": "code",
   "execution_count": 23,
   "metadata": {},
   "outputs": [],
   "source": [
    "save = False\n",
    "fig_save_folder = r\"C:\\Users\\diogo\\OneDrive - Universidade de Lisboa\\Terraprima\\Documents\\Papers\\A multitier methodology for the estimation of individual-specific parameters\\Figures\""
   ]
  },
  {
   "cell_type": "markdown",
   "metadata": {},
   "source": [
    "## Heatmaps"
   ]
  },
  {
   "cell_type": "code",
   "execution_count": 24,
   "metadata": {},
   "outputs": [],
   "source": [
    "def plot_heatmap(heatmap_errors_df, tier_name):\n",
    "    fig, ax = plt.subplots(1, 1, figsize=(12, 6), tight_layout=True)\n",
    "    heatmap = sns.heatmap(heatmap_errors_df, annot=True, ax=ax, \n",
    "                cmap=colormap, vmin=heatmap_bounds[0], vmax=heatmap_bounds[1],\n",
    "                fmt=\".1f\", annot_kws={\"size\": 14}, square=True, \n",
    "                cbar_kws={\"format\": mtick.PercentFormatter(decimals=1)})\n",
    "    ax.tick_params(axis='x', which='both', labeltop=True, labelbottom=False, bottom=False, top=True)\n",
    "    heatmap.set_xticklabels(heatmap_par_labels, fontsize=18)\n",
    "    heatmap.set_yticklabels(heatmap_par_labels, fontsize=18)\n",
    "    cb = heatmap.axes.collections[0].colorbar.ax\n",
    "    cb.tick_params(labelsize=16)\n",
    "    ax.set_title(f'Mean of individual data errors in {tier_name} tier', fontsize=18)\n",
    "\n",
    "    if save:\n",
    "        fig.savefig(f\"{fig_save_folder}/heatmap_{tier_name}_tier.pdf\", bbox_inches='tight')\n"
   ]
  },
  {
   "cell_type": "markdown",
   "metadata": {},
   "source": [
    "### Trial tier"
   ]
  },
  {
   "cell_type": "code",
   "execution_count": 25,
   "metadata": {},
   "outputs": [
    {
     "data": {
      "image/png": "[encoded data removed]",
      "text/plain": [
       "<Figure size 1200x600 with 2 Axes>"
      ]
     },
     "metadata": {},
     "output_type": "display_data"
    }
   ],
   "source": [
    "trial_tier_errors_heatmap_df = pd.DataFrame(index=par_order, columns=par_order, dtype='float')\n",
    "for i, par1 in enumerate(par_order):\n",
    "    for j, par2 in enumerate(par_order):\n",
    "        if j < i:\n",
    "            continue\n",
    "        if i == j:\n",
    "            estim = par1\n",
    "        else:\n",
    "            estim = ' '.join(sorted([par1, par2], key=lambda x: par_order.index(x)))\n",
    "        trial_tier_errors_heatmap_df.loc[par1, par2] = trial_ind_data_errors_df.loc[estim].mean(numeric_only=True)['avg'] * 100\n",
    "        trial_tier_errors_heatmap_df.loc[par2, par1] = trial_tier_errors_heatmap_df.loc[par1, par2]\n",
    "plot_heatmap(trial_tier_errors_heatmap_df, 'trial')"
   ]
  },
  {
   "cell_type": "markdown",
   "metadata": {},
   "source": [
    "### Individual tier"
   ]
  },
  {
   "cell_type": "code",
   "execution_count": 26,
   "metadata": {},
   "outputs": [
    {
     "data": {
      "image/png": "[encoded data removed]",
      "text/plain": [
       "<Figure size 1200x600 with 2 Axes>"
      ]
     },
     "metadata": {},
     "output_type": "display_data"
    }
   ],
   "source": [
    "ind_tier_errors_heatmap_df = pd.DataFrame(index=par_order, columns=par_order, dtype='float')\n",
    "for i, par1 in enumerate(par_order):\n",
    "    for j, par2 in enumerate(par_order):\n",
    "        if j < i:\n",
    "            continue\n",
    "        if i == j:\n",
    "            estim = par1\n",
    "        else:\n",
    "            estim = ' '.join(sorted([par1, par2], key=lambda x: par_order.index(x)))\n",
    "        ind_tier_errors_heatmap_df.loc[par1, par2] = individual_ind_data_errors_df.loc[estim].mean(numeric_only=True)['avg'] * 100\n",
    "        ind_tier_errors_heatmap_df.loc[par2, par1] = ind_tier_errors_heatmap_df.loc[par1, par2]\n",
    "plot_heatmap(ind_tier_errors_heatmap_df, 'individual')"
   ]
  },
  {
   "cell_type": "markdown",
   "metadata": {},
   "source": [
    "## Model predictions"
   ]
  },
  {
   "cell_type": "code",
   "execution_count": 27,
   "metadata": {},
   "outputs": [],
   "source": [
    "def build_cow(estim, ind_id):\n",
    "    tier_pars = estim.split()\n",
    "    if tier_pars != trial_tier.tier_pars:\n",
    "        multitier.set_tier_parameters('trial', tier_pars)\n",
    "        trial_tier.output_folder = f\"{multitier.output_folder}/trial/{' '.join(tier_pars)}\"\n",
    "        trial_tier.load_results()\n",
    "    if tier_pars != individual_tier.tier_pars:\n",
    "        multitier.set_tier_parameters('individual', tier_pars)\n",
    "        individual_tier.output_folder = f\"{multitier.output_folder}/individual/{' '.join(tier_pars)}\"\n",
    "        individual_tier.load_results()\n",
    "    pars_dict = multitier.get_full_pars_dict('individual', ind_id, include_tier=True)\n",
    "    pars_dict.update(non_estimated_pars)\n",
    "    #print(pars_dict)\n",
    "    cow = pet.Pet(**pars_dict)\n",
    "    return cow"
   ]
  },
  {
   "cell_type": "code",
   "execution_count": 28,
   "metadata": {},
   "outputs": [
    {
     "data": {
      "application/vnd.jupyter.widget-view+json": {
       "model_id": "4e46dbb41dee499aa48f87aee58cb80b",
       "version_major": 2,
       "version_minor": 0
      },
      "text/plain": [
       "interactive(children=(Dropdown(description='Individual parameters:', index=5, options=('p_Am', 'kap_X', 'p_M',…"
      ]
     },
     "execution_count": 28,
     "metadata": {},
     "output_type": "execute_result"
    }
   ],
   "source": [
    "def viz_ind_step_predictions(estim, ind_id):\n",
    "    # Get data\n",
    "    ds_name = multitier.data.get_data_source_of_ind(ind_id, 'tW')[0]\n",
    "    wds = multitier.data.data_sources[ds_name]\n",
    "    weight_data, initial_date, initial_weight = wds.get_data(ind_id)\n",
    "    ds_name = multitier.data.get_data_source_of_ind(ind_id, 'tJX')[0]\n",
    "    fids = multitier.data.data_sources[ds_name]\n",
    "    feed_intake_data, initial_date, initial_weight = fids.get_data(ind_id)\n",
    "\n",
    "    \n",
    "    W_i = weight_data.iloc[0]['weight'] * 1000\n",
    "    t = np.linspace(weight_data.iloc[0]['age'], weight_data.iloc[-1]['age'])\n",
    "    \n",
    "    # Get DEB model\n",
    "    cow = build_cow(estim, ind_id)\n",
    "    \n",
    "    print(f\"Individual {ind_id} belongs to the {multitier.ind_tiers.loc[ind_id, 'trial']}.\")\n",
    "    \n",
    "    # Plotting\n",
    "    fig, axes = plt.subplots(1,2, figsize=(12, 5), tight_layout=True)\n",
    "    # Weight\n",
    "    ax = axes[0]\n",
    "    ax.grid(zorder=1)\n",
    "    ax.set_xlabel('Age [d]', fontsize=14)\n",
    "    ax.set_ylabel(\"Weight [kg]\", fontsize=14)\n",
    "    sns.scatterplot(data=weight_data, x='age', y='weight', ax=ax, zorder=2)\n",
    "    ax.plot(t, formulae.weight_curve(cow, t, W_i, t0=t[0])/1000, 'r', label='DEB model', zorder=2)\n",
    "    ax.legend()\n",
    "    # Feed intake\n",
    "    ax = axes[1]\n",
    "    ax.grid()\n",
    "    ax.set_xlabel('Age [d]', fontsize=14)\n",
    "    ax.set_ylabel(\"Feed Intake [kg/d]\", fontsize=14)\n",
    "    sns.scatterplot(data=feed_intake_data, x='age', y='dry_intake', ax=ax, zorder=2)\n",
    "    ax.plot(t, formulae.feed_intake_curve(cow, t, W_i, t0=t[0])/1000, 'r', label='DEB model', zorder=2)\n",
    "    ax.legend()\n",
    "    \n",
    "    if save:\n",
    "        fig.savefig(f\"{fig_save_folder}/Model Predictions/weight_feed_{estim}_{ind_id}.pdf\")\n",
    "    \n",
    "\n",
    "estim_selector = widgets.Dropdown(options=individual_tier_estim_list, value='p_Am kap_X', description='Individual parameters:', disabled=False)\n",
    "ind_selector = widgets.Dropdown(options=multitier.data.individuals, value='PT324096615', description='Individual ID:', disabled=False)\n",
    "widgets.interactive(viz_ind_step_predictions, estim=estim_selector, ind_id=ind_selector)"
   ]
  },
  {
   "cell_type": "markdown",
   "metadata": {},
   "source": [
    "### $\\{ \\dot{p}_{Am} \\}$ and $\\kappa_X$ Scatterplot and Histograms"
   ]
  },
  {
   "cell_type": "code",
   "execution_count": null,
   "metadata": {},
   "outputs": [],
   "source": []
  },
  {
   "cell_type": "code",
   "execution_count": 29,
   "metadata": {},
   "outputs": [
    {
     "data": {
      "application/vnd.jupyter.widget-view+json": {
       "model_id": "94ff2d7979104f308d66fec779a8e178",
       "version_major": 2,
       "version_minor": 0
      },
      "text/plain": [
       "interactive(children=(Dropdown(description='Individual parameters:', index=5, options=('p_Am', 'kap_X', 'p_M',…"
      ]
     },
     "execution_count": 29,
     "metadata": {},
     "output_type": "execute_result"
    }
   ],
   "source": [
    "sns.set_style('ticks')\n",
    "def plot_scatter_hist_of_ind_pars(estim):\n",
    "    xpar, ypar = estim.split()\n",
    "    hue = 'trial'\n",
    "    estim_ind_pars = individual_pars_df.loc[estim].dropna(axis=1).join(multitier.ind_tiers['trial'])\n",
    "    estim_trial_pars = trial_pars_df.loc[estim].dropna(axis=1)\n",
    "\n",
    "    fig = plt.figure(tight_layout=True, figsize=(12, 7))\n",
    "    gs = gridspec.GridSpec(2,3)\n",
    "    ax = fig.add_subplot(gs[0:2, 0:2])\n",
    "    ax.grid(zorder=1)\n",
    "\n",
    "    sns.scatterplot(data=estim_ind_pars, x=xpar,y=ypar, ax=ax, s=100, hue=hue, zorder=2)\n",
    "    ax.set_xlabel(f\"{par_descriptions_en[xpar]} ${tex_par_symbols[xpar]}$ [${tex_par_units[xpar]}$]\", fontsize=14)\n",
    "    ax.set_ylabel(f\"{par_descriptions_en[ypar]} ${tex_par_symbols[ypar]}$ [${tex_par_units[ypar]}$]\", fontsize=14)\n",
    "    \n",
    "    # 2020 trial params\n",
    "    for year, i, edgecolor in zip((2020,2021),(0,1),('blue', 'orange')):\n",
    "        label = f'{year} trial parameters'\n",
    "        ax.scatter(estim_trial_pars.loc[f\"Trial{year}\", xpar], estim_trial_pars.loc[f\"Trial{year}\", ypar], \n",
    "                   c=plt.cm.tab10.colors[i], marker='D', label=label, edgecolor='black', s=100, zorder=2)\n",
    "        #plt.text(ps_pars_df.loc[estim, f\"{xpar}_{year}\"], ps_pars_df.loc[estim, f\"{ypar}_{year}\"], label, fontsize=12, ha='right', va='bottom')\n",
    "    ax.scatter(breed_pars_df[xpar], breed_pars_df[ypar], c=plt.cm.tab10.colors[2], marker='h', label='Breed parameters', edgecolor='black', s=150, zorder=2)    \n",
    "    \n",
    "    legend = ax.legend()\n",
    "    legend.texts[0].set_text('Ind. pars. for 2020 trial')\n",
    "    legend.texts[1].set_text('Ind. pars. for 2021 trial')\n",
    "\n",
    "    # Histograms\n",
    "    for i, par in enumerate((xpar, ypar)):\n",
    "        ax = fig.add_subplot(gs[i, 2])\n",
    "        sns.histplot(data=estim_ind_pars, x=par, ax=ax, hue=hue, multiple='layer', edgecolor='black')\n",
    "        ax.set_xlabel(f\"${tex_par_symbols[par]}$ [${tex_par_units[par]}$]\", fontsize=12)\n",
    "        ax.set_ylabel(\"\")\n",
    "        for j, year in enumerate((2020, 2021)):\n",
    "            ax.axvline(x=estim_trial_pars.loc[f\"Trial{year}\", par], color=plt.cm.tab10.colors[j], linestyle='--', linewidth=2, markeredgecolor='black')\n",
    "        ax.axvline(x=breed_pars_df[par], color=plt.cm.tab10.colors[2], linestyle='--', linewidth=2)\n",
    "        ax.get_legend().remove()\n",
    "        \n",
    "    if save:\n",
    "        fig.savefig(f\"{fig_save_folder}/{xpar}_{ypar}_scatter_dist_all_tiers.pdf\", transparent=True)\n",
    "    \n",
    "\n",
    "estim_selector = widgets.Dropdown(options=individual_tier_estim_list, value='p_Am kap_X', description='Individual parameters:', disabled=False)\n",
    "widgets.interactive(plot_scatter_hist_of_ind_pars, estim=estim_selector)\n"
   ]
  }
 ],
 "metadata": {
  "kernelspec": {
   "display_name": "Python 3 (ipykernel)",
   "language": "python",
   "name": "python3"
  },
  "language_info": {
   "codemirror_mode": {
    "name": "ipython",
    "version": 3
   },
   "file_extension": ".py",
   "mimetype": "text/x-python",
   "name": "python",
   "nbconvert_exporter": "python",
   "pygments_lexer": "ipython3",
   "version": "3.8.18"
  },
  "widgets": {
   "application/vnd.jupyter.widget-state+json": {
    "state": {
     "1cb0516059ac4a85bb7ee026741f345c": {
      "model_module": "@jupyter-widgets/base",
      "model_module_version": "2.0.0",
      "model_name": "LayoutModel",
      "state": {}
     },
     "3eba454fd90d4218a2c27493481e1428": {
      "model_module": "@jupyter-widgets/base",
      "model_module_version": "2.0.0",
      "model_name": "LayoutModel",
      "state": {}
     },
     "8a309a06a43f4a679a5e9fb9f6e891cd": {
      "model_module": "@jupyter-widgets/controls",
      "model_module_version": "2.0.0",
      "model_name": "DescriptionStyleModel",
      "state": {
       "description_width": ""
      }
     },
     "916c75a49c754cf98c9e52e1c0ca5bba": {
      "model_module": "@jupyter-widgets/base",
      "model_module_version": "2.0.0",
      "model_name": "LayoutModel",
      "state": {}
     },
     "ac2755af8da546a081800b967dd666e3": {
      "model_module": "@jupyter-widgets/output",
      "model_module_version": "1.0.0",
      "model_name": "OutputModel",
      "state": {
       "layout": "IPY_MODEL_3eba454fd90d4218a2c27493481e1428",
       "outputs": [
        {
         "name": "stdout",
         "output_type": "stream",
         "text": "Individual PT324096615 belongs to the Trial2021.\n"
        },
        {
         "data": {
          "image/png": "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",
          "text/plain": "<Figure size 1200x500 with 2 Axes>"
         },
         "metadata": {},
         "output_type": "display_data"
        }
       ]
      }
     },
     "aff9bb13dcf6433eacec24fe48f7fd5a": {
      "model_module": "@jupyter-widgets/controls",
      "model_module_version": "2.0.0",
      "model_name": "DropdownModel",
      "state": {
       "_options_labels": [
        "PT023396456",
        "PT023480600",
        "PT023802667",
        "PT023805915",
        "PT023974753",
        "PT024513869",
        "PT123621789",
        "PT123769875",
        "PT123799896",
        "PT124148445",
        "PT124515292",
        "PT133012645",
        "PT223476701",
        "PT223767729",
        "PT223802666",
        "PT224513004",
        "PT224957247",
        "PT323474933",
        "PT324096615",
        "PT423396430",
        "PT423620929",
        "PT423621858",
        "PT424513003",
        "PT424986494",
        "PT523085848",
        "PT523583719",
        "PT523769910",
        "PT523799875",
        "PT524015264",
        "PT524148448",
        "PT524914685",
        "PT524987172",
        "PT623583704",
        "PT623806020",
        "PT623806044",
        "PT624096609",
        "PT624513002",
        "PT624987181",
        "PT633012794",
        "PT633027441",
        "PT723474950",
        "PT723658015",
        "PT723767731",
        "PT723805945",
        "PT724513856",
        "PT733027431",
        "PT823583722",
        "PT824914674",
        "PT923583699",
        "PT923712082",
        "PT923966027",
        "PT924854279"
       ],
       "description": "Individual ID:",
       "index": 18,
       "layout": "IPY_MODEL_1cb0516059ac4a85bb7ee026741f345c",
       "style": "IPY_MODEL_8a309a06a43f4a679a5e9fb9f6e891cd"
      }
     },
     "bb8f73836093447bbf27d4e687b32d2d": {
      "model_module": "@jupyter-widgets/controls",
      "model_module_version": "2.0.0",
      "model_name": "DropdownModel",
      "state": {
       "_options_labels": [
        "p_Am",
        "kap_X",
        "p_M",
        "v",
        "kap",
        "p_Am kap_X",
        "p_Am p_M",
        "p_Am v",
        "p_Am kap",
        "kap_X p_M",
        "kap_X v",
        "kap_X kap",
        "p_M v",
        "p_M kap",
        "v kap"
       ],
       "description": "Individual parameters:",
       "index": 5,
       "layout": "IPY_MODEL_916c75a49c754cf98c9e52e1c0ca5bba",
       "style": "IPY_MODEL_f311c418501347b6b3e9d2b33167670c"
      }
     },
     "d8a0b9b82dd640019593de65c12fae3b": {
      "model_module": "@jupyter-widgets/base",
      "model_module_version": "2.0.0",
      "model_name": "LayoutModel",
      "state": {}
     },
     "e44a6f18c4da4858a6a76707bdc332b5": {
      "model_module": "@jupyter-widgets/controls",
      "model_module_version": "2.0.0",
      "model_name": "VBoxModel",
      "state": {
       "_dom_classes": [
        "widget-interact"
       ],
       "children": [
        "IPY_MODEL_bb8f73836093447bbf27d4e687b32d2d",
        "IPY_MODEL_aff9bb13dcf6433eacec24fe48f7fd5a",
        "IPY_MODEL_ac2755af8da546a081800b967dd666e3"
       ],
       "layout": "IPY_MODEL_d8a0b9b82dd640019593de65c12fae3b"
      }
     },
     "f311c418501347b6b3e9d2b33167670c": {
      "model_module": "@jupyter-widgets/controls",
      "model_module_version": "2.0.0",
      "model_name": "DescriptionStyleModel",
      "state": {
       "description_width": ""
      }
     }
    },
    "version_major": 2,
    "version_minor": 0
   }
  }
 },
 "nbformat": 4,
 "nbformat_minor": 4
}
