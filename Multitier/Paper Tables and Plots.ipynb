{
 "cells": [
  {
   "cell_type": "code",
   "execution_count": 2,
   "metadata": {
    "collapsed": false,
    "pycharm": {
     "name": "#%%\n"
    }
   },
   "source": [
    "import numpy as np\n",
    "import matplotlib.pyplot as plt\n",
    "import matplotlib.dates as mdates\n",
    "import pandas as pd\n",
    "import seaborn as sns\n",
    "from datetime import datetime as dt\n",
    "from datetime import timedelta as td\n",
    "from scipy.integrate import simpson, cumtrapz\n",
    "\n",
    "import DEBpython.pet as pet\n",
    "import DEBpython.models as models\n",
    "from DEBpython.visualizer import tex_par_symbols, tex_par_units, par_descriptions_en\n",
    "import DEBpython.composition as composition\n",
    "import DEBpython.formulae as formulae\n",
    "import DEBpython.efficiency as efficiency\n",
    "\n",
    "from DEBtoolPyIF.data_sources import *\n",
    "from DEBtoolPyIF.notebook_visualizers import *\n",
    "\n",
    "from run_multitier_estimation import create_tier_structure\n",
    "\n",
    "sns.set_style('ticks')\n",
    "%matplotlib inline"
   ],
   "outputs": []
  },
  {
   "cell_type": "markdown",
   "metadata": {},
   "source": [
    "# Load data, parameters, errors, and auxiliary variables"
   ]
  },
  {
   "cell_type": "code",
   "execution_count": 3,
   "metadata": {
    "collapsed": false,
    "pycharm": {
     "name": "#%%\n"
    }
   },
   "source": [
    "multitier = create_tier_structure()\n",
    "multitier.tiers['breed'].load_results()\n"
   ],
   "outputs": []
  },
  {
   "cell_type": "code",
   "execution_count": 4,
   "metadata": {},
   "source": [
    "multitier.tiers['breed'].pars_df"
   ],
   "outputs": []
  }
 ],
 "metadata": {
  "kernelspec": {
   "display_name": "Python 3",
   "language": "python",
   "name": "python3"
  },
  "language_info": {
   "codemirror_mode": {
    "name": "ipython",
    "version": 3
   },
   "file_extension": ".py",
   "mimetype": "text/x-python",
   "name": "python",
   "nbconvert_exporter": "python",
   "pygments_lexer": "ipython3",
   "version": "3.8.18"
  }
 },
 "nbformat": 4,
 "nbformat_minor": 0
}
