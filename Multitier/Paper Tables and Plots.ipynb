{
 "cells": [
  {
   "cell_type": "code",
   "execution_count": 2,
   "metadata": {
    "collapsed": false,
    "pycharm": {
     "name": "#%%\n"
    }
   },
   "outputs": [],
   "source": [
    "import numpy as np\n",
    "import matplotlib.pyplot as plt\n",
    "import matplotlib.dates as mdates\n",
    "import pandas as pd\n",
    "import seaborn as sns\n",
    "from datetime import datetime as dt\n",
    "from datetime import timedelta as td\n",
    "from scipy.integrate import simpson, cumtrapz\n",
    "\n",
    "import DEBpython.pet as pet\n",
    "import DEBpython.models as models\n",
    "from DEBpython.visualizer import tex_par_symbols, tex_par_units, par_descriptions_en\n",
    "import DEBpython.composition as composition\n",
    "import DEBpython.formulae as formulae\n",
    "import DEBpython.efficiency as efficiency\n",
    "\n",
    "from DEBtoolPyIF.data_sources import *\n",
    "from DEBtoolPyIF.notebook_visualizers import *\n",
    "\n",
    "from run_multitier_estimation import create_tier_structure\n",
    "\n",
    "sns.set_style('ticks')\n",
    "%matplotlib inline"
   ]
  },
  {
   "cell_type": "markdown",
   "metadata": {},
   "source": [
    "# Load data, parameters, errors, and auxiliary variables"
   ]
  },
  {
   "cell_type": "code",
   "execution_count": 3,
   "metadata": {
    "collapsed": false,
    "pycharm": {
     "name": "#%%\n"
    }
   },
   "outputs": [],
   "source": [
    "multitier = create_tier_structure()\n",
    "multitier.tiers['breed'].load_results()\n"
   ]
  },
  {
   "cell_type": "code",
   "execution_count": 4,
   "metadata": {},
   "outputs": [
    {
     "data": {
      "text/html": [
       "<div>\n",
       "<style scoped>\n",
       "    .dataframe tbody tr th:only-of-type {\n",
       "        vertical-align: middle;\n",
       "    }\n",
       "\n",
       "    .dataframe tbody tr th {\n",
       "        vertical-align: top;\n",
       "    }\n",
       "\n",
       "    .dataframe thead th {\n",
       "        text-align: right;\n",
       "    }\n",
       "</style>\n",
       "<table border=\"1\" class=\"dataframe\">\n",
       "  <thead>\n",
       "    <tr style=\"text-align: right;\">\n",
       "      <th></th>\n",
       "      <th>p_Am</th>\n",
       "      <th>kap_X</th>\n",
       "      <th>p_M</th>\n",
       "      <th>v</th>\n",
       "      <th>kap</th>\n",
       "      <th>E_G</th>\n",
       "      <th>E_Hb</th>\n",
       "      <th>E_Hx</th>\n",
       "      <th>E_Hp</th>\n",
       "      <th>h_a</th>\n",
       "      <th>t_0</th>\n",
       "      <th>del_M</th>\n",
       "      <th>p_Am_f</th>\n",
       "      <th>E_Hx_f</th>\n",
       "      <th>E_Hp_f</th>\n",
       "    </tr>\n",
       "    <tr>\n",
       "      <th>tier_sample</th>\n",
       "      <th></th>\n",
       "      <th></th>\n",
       "      <th></th>\n",
       "      <th></th>\n",
       "      <th></th>\n",
       "      <th></th>\n",
       "      <th></th>\n",
       "      <th></th>\n",
       "      <th></th>\n",
       "      <th></th>\n",
       "      <th></th>\n",
       "      <th></th>\n",
       "      <th></th>\n",
       "      <th></th>\n",
       "      <th></th>\n",
       "    </tr>\n",
       "  </thead>\n",
       "  <tbody>\n",
       "    <tr>\n",
       "      <th>male</th>\n",
       "      <td>4312.79502</td>\n",
       "      <td>0.116091</td>\n",
       "      <td>106.035823</td>\n",
       "      <td>0.049424</td>\n",
       "      <td>0.926367</td>\n",
       "      <td>7835.884322</td>\n",
       "      <td>7.208394e+06</td>\n",
       "      <td>3.925416e+07</td>\n",
       "      <td>7.223944e+07</td>\n",
       "      <td>7.161304e-08</td>\n",
       "      <td>88.050549</td>\n",
       "      <td>0.221322</td>\n",
       "      <td>3806.691182</td>\n",
       "      <td>3.701081e+07</td>\n",
       "      <td>5.078369e+07</td>\n",
       "    </tr>\n",
       "  </tbody>\n",
       "</table>\n",
       "</div>"
      ],
      "text/plain": [
       "                   p_Am     kap_X         p_M         v       kap  \\\n",
       "tier_sample                                                         \n",
       "male         4312.79502  0.116091  106.035823  0.049424  0.926367   \n",
       "\n",
       "                     E_G          E_Hb          E_Hx          E_Hp  \\\n",
       "tier_sample                                                          \n",
       "male         7835.884322  7.208394e+06  3.925416e+07  7.223944e+07   \n",
       "\n",
       "                      h_a        t_0     del_M       p_Am_f        E_Hx_f  \\\n",
       "tier_sample                                                                 \n",
       "male         7.161304e-08  88.050549  0.221322  3806.691182  3.701081e+07   \n",
       "\n",
       "                   E_Hp_f  \n",
       "tier_sample                \n",
       "male         5.078369e+07  "
      ]
     },
     "execution_count": 4,
     "metadata": {},
     "output_type": "execute_result"
    }
   ],
   "source": [
    "multitier.tiers['breed'].pars_df"
   ]
  }
 ],
 "metadata": {
  "kernelspec": {
   "display_name": "Python 3",
   "language": "python",
   "name": "python3"
  },
  "language_info": {
   "codemirror_mode": {
    "name": "ipython",
    "version": 3
   },
   "file_extension": ".py",
   "mimetype": "text/x-python",
   "name": "python",
   "nbconvert_exporter": "python",
   "pygments_lexer": "ipython3",
   "version": "3.8.18"
  }
 },
 "nbformat": 4,
 "nbformat_minor": 0
}
